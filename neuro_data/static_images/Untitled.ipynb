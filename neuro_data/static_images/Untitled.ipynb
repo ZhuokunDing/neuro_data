{
 "cells": [
  {
   "cell_type": "code",
   "execution_count": 1,
   "metadata": {},
   "outputs": [
    {
     "name": "stdout",
     "output_type": "stream",
     "text": [
      "Connecting zhiwei@10.28.0.34:3306\n"
     ]
    },
    {
     "name": "stderr",
     "output_type": "stream",
     "text": [
      "/src/static-networks/staticnet_analyses/multi_mei.py:1648: UserWarning: Use of this table is deprecated. It is kept only for record keeping purpose\n",
      "  warnings.warn('Use of this table is deprecated. It is kept only for record keeping purpose')\n"
     ]
    }
   ],
   "source": [
    "import datajoint as dj\n",
    "import numpy as np\n",
    "import matplotlib.pyplot as plt\n",
    "from neuro_data.static_images import data_schemas\n",
    "from staticnet_experiments import models as static_models\n",
    "from staticnet_analyses import base, zd_base\n",
    "from staticnet_invariance import active_learning, diverse_meis as diverse\n",
    "from staticnet_invariance.active_learning import best_model\n",
    "from neuro_data import logger as log\n",
    "from neuro_data.static_images import stats as neuro_stats\n",
    "from staticnet_invariance.active_learning import * \n",
    "import scipy\n",
    "from neuro_data.utils.measures import corr\n",
    "import itertools\n",
    "\n",
    "imagenet = dj.create_virtual_module('pipeline_imagenet', 'pipeline_imagenet')\n",
    "stimulus = dj.create_virtual_module('pipeline_stimulus', 'pipeline_stimulus')\n"
   ]
  },
  {
   "cell_type": "code",
   "execution_count": 25,
   "metadata": {},
   "outputs": [
    {
     "data": {
      "text/html": [
       "\n",
       "        \n",
       "        <style type=\"text/css\">\n",
       "            .Relation{\n",
       "                border-collapse:collapse;\n",
       "            }\n",
       "            .Relation th{\n",
       "                background: #A0A0A0; color: #ffffff; padding:4px; border:#f0e0e0 1px solid;\n",
       "                font-weight: normal; font-family: monospace; font-size: 100%;\n",
       "            }\n",
       "            .Relation td{\n",
       "                padding:4px; border:#f0e0e0 1px solid; font-size:100%;\n",
       "            }\n",
       "            .Relation tr:nth-child(odd){\n",
       "                background: #ffffff;\n",
       "            }\n",
       "            .Relation tr:nth-child(even){\n",
       "                background: #f3f1ff;\n",
       "            }\n",
       "            /* Tooltip container */\n",
       "            .djtooltip {\n",
       "            }\n",
       "            /* Tooltip text */\n",
       "            .djtooltip .djtooltiptext {\n",
       "                visibility: hidden;\n",
       "                width: 120px;\n",
       "                background-color: black;\n",
       "                color: #fff;\n",
       "                text-align: center;\n",
       "                padding: 5px 0;\n",
       "                border-radius: 6px;\n",
       "                /* Position the tooltip text - see examples below! */\n",
       "                position: absolute;\n",
       "                z-index: 1;\n",
       "            }\n",
       "            #primary {\n",
       "                font-weight: bold;\n",
       "                color: black;\n",
       "            }\n",
       "\n",
       "            #nonprimary {\n",
       "                font-weight: normal;\n",
       "                color: white;\n",
       "            }\n",
       "\n",
       "            /* Show the tooltip text when you mouse over the tooltip container */\n",
       "            .djtooltip:hover .djtooltiptext {\n",
       "                visibility: visible;\n",
       "            }\n",
       "        </style>\n",
       "        \n",
       "        <b></b>\n",
       "            <div style=\"max-height:1000px;max-width:1500px;overflow:auto;\">\n",
       "            <table border=\"1\" class=\"Relation\">\n",
       "                <thead> <tr style=\"text-align: right;\"> <th> <div class=\"djtooltip\">\n",
       "                                <p id=\"primary\">teacher_id</p>\n",
       "                                <span class=\"djtooltiptext\"></span>\n",
       "                            </div></th><th><div class=\"djtooltip\">\n",
       "                                <p id=\"primary\">noise_id</p>\n",
       "                                <span class=\"djtooltiptext\"></span>\n",
       "                            </div></th><th><div class=\"djtooltip\">\n",
       "                                <p id=\"nonprimary\">clean_responses</p>\n",
       "                                <span class=\"djtooltiptext\">response to normalized images (images * neurons)</span>\n",
       "                            </div></th><th><div class=\"djtooltip\">\n",
       "                                <p id=\"nonprimary\">noise_responses</p>\n",
       "                                <span class=\"djtooltiptext\">responses with added noise (images * neurons)</span>\n",
       "                            </div> </th> </tr> </thead>\n",
       "                <tbody> <tr> <td>1</td>\n",
       "<td>1</td>\n",
       "<td>=BLOB=</td>\n",
       "<td>=BLOB=</td></tr><tr><td>2</td>\n",
       "<td>1</td>\n",
       "<td>=BLOB=</td>\n",
       "<td>=BLOB=</td> </tr> </tbody>\n",
       "            </table>\n",
       "            \n",
       "            <p>Total: 2</p></div>\n",
       "            "
      ],
      "text/plain": [
       "*teacher_id    *noise_id    clean_resp noise_resp\n",
       "+------------+ +----------+ +--------+ +--------+\n",
       "1              1            =BLOB=     =BLOB=    \n",
       "2              1            =BLOB=     =BLOB=    \n",
       " (Total: 2)"
      ]
     },
     "execution_count": 25,
     "metadata": {},
     "output_type": "execute_result"
    }
   ],
   "source": [
    "TeacherInputResponse.ResponseBlock()"
   ]
  },
  {
   "cell_type": "code",
   "execution_count": 227,
   "metadata": {},
   "outputs": [],
   "source": [
    "key = (static_models.Model() & 'group_id = 74 and net_hash LIKE \"403%%\"').fetch('KEY', limit=1)[0]"
   ]
  },
  {
   "cell_type": "code",
   "execution_count": 228,
   "metadata": {
    "collapsed": true,
    "jupyter": {
     "outputs_hidden": true
    }
   },
   "outputs": [
    {
     "name": "stdout",
     "output_type": "stream",
     "text": [
      "13-08-2020:16:21:44 INFO     configs.py           298:\t Ignoring input arguments: \"net_hash\", \"core_hash\", \"ro_hash\", \"shift_hash\", \"mod_hash\", \"train_hash\", \"data_hash\", \"group_id\", \"seed\", \"train_type\", \"schedule\", \"max_epoch\"when creating datasets\n",
      "13-08-2020:16:21:44 INFO     configs.py           278:\t Loading None dataset with tier=train\n",
      "13-08-2020:16:21:44 INFO     data_schemas.py     1191:\t Data will be (images,behavior,pupil_center,responses)\n",
      "13-08-2020:16:21:44 INFO     data_schemas.py     1194:\t Loading dataset group074-22846-10-16-0 --> /external/cache/static22846-10-16-preproc0.h5\n",
      "13-08-2020:16:21:44 INFO     configs.py           283:\t Adding stats_source \"all\" to dataset\n",
      "13-08-2020:16:21:44 INFO     configs.py           286:\t Using statistics source all\n",
      "13-08-2020:16:21:44 INFO     configs.py           160:\t Excluding \"\" from normalization\n",
      "13-08-2020:16:21:44 INFO     configs.py           252:\t Using stimulus.Frame as stimulus type for all datasets\n",
      "13-08-2020:16:21:44 INFO     configs.py           255:\t Stimulus sources: \"stimulus.Frame\"\n",
      "13-08-2020:16:21:44 INFO     configs.py           189:\t Using all trial from stimulus.Frame\n",
      "13-08-2020:16:21:44 INFO     configs.py           263:\t Selecting trials from stimulus.Frame and tier=train for dataset group074-22846-10-16-0\n",
      "13-08-2020:16:21:44 INFO     configs.py           265:\t Found 4495 active trials\n",
      "13-08-2020:16:21:44 INFO     configs.py           225:\t Loader sampler is SubsetRandomSampler\n",
      "13-08-2020:16:21:44 INFO     configs.py           227:\t Number of samples in the loader will be 4495\n",
      "13-08-2020:16:21:44 INFO     configs.py           229:\t Number of batches in the loader will be 75\n",
      "13-08-2020:16:21:44 INFO     configs.py           307:\t Subsampling to layer L2/3 and area(s) \"V1\"\n",
      "13-08-2020:16:21:44 INFO     configs.py           691:\t Setting cuda=False\n",
      "13-08-2020:16:21:44 INFO     cores.py             101:\t Ignoring input {'core_hash': '86e5871c1e9112ad5c408697c2ad7d4d'} when creating GaussianLaplaceCore\n",
      "13-08-2020:16:21:44 INFO     readouts.py          145:\t Ignoring input {'ro_hash': 'a206f6da6a16ea14081062a1e2436b48'} when creating SpatialTransformerPyramid2dReadout\n",
      "13-08-2020:16:21:44 INFO     shifters.py           55:\t Ignoring input {'shift_hash': '05c69a4aeaeea5e48fa8fc5e70181d67'} when creating MLPShifter\n",
      "13-08-2020:16:21:44 INFO     shifters.py           27:\t Ignoring input {} when creating MLP\n",
      "13-08-2020:16:21:44 INFO     modulators.py         47:\t Ignoring input {'mod_hash': 'a757e992ae449e3057ff1d512a51bd1e'} when creating MLPModulator\n",
      "13-08-2020:16:21:44 INFO     modulators.py         18:\t Ignoring input {} when creating MLP\n"
     ]
    },
    {
     "name": "stderr",
     "output_type": "stream",
     "text": [
      "/src/neuro_data/neuro_data/static_images/transforms.py:36: H5pyDeprecationWarning: dataset.value has been deprecated. Use dataset[()] instead.\n",
      "  self._inputs_mean = data.statistics['images/{}/mean'.format(stats_source)].value\n",
      "/src/neuro_data/neuro_data/static_images/transforms.py:41: H5pyDeprecationWarning: dataset.value has been deprecated. Use dataset[()] instead.\n",
      "  self._inputs_std = data.statistics['images/{}/std'.format(stats_source)].value\n"
     ]
    }
   ],
   "source": [
    "model = (static_models.Model & key).load_network()\n",
    "model = model.to('cuda')"
   ]
  },
  {
   "cell_type": "code",
   "execution_count": 232,
   "metadata": {},
   "outputs": [],
   "source": [
    "im = torch.randn(1, 1, 36, 64).cuda()"
   ]
  },
  {
   "cell_type": "code",
   "execution_count": 234,
   "metadata": {},
   "outputs": [
    {
     "data": {
      "text/plain": [
       "torch.Size([1, 96, 22, 50])"
      ]
     },
     "execution_count": 234,
     "metadata": {},
     "output_type": "execute_result"
    }
   ],
   "source": [
    "model.core(im).shape"
   ]
  },
  {
   "cell_type": "code",
   "execution_count": 237,
   "metadata": {
    "collapsed": true,
    "jupyter": {
     "outputs_hidden": true
    }
   },
   "outputs": [
    {
     "data": {
      "text/plain": [
       "CorePlusReadout2d(\n",
       "  (core): GaussianLaplaceCore(\n",
       "    (_input_weights_regularizer): LaplaceL2(\n",
       "      (laplace): Laplace()\n",
       "    )\n",
       "    (features): Sequential(\n",
       "      (layer0): Sequential(\n",
       "        (conv): Conv2d(1, 32, kernel_size=(15, 15), stride=(1, 1), bias=False)\n",
       "        (norm): BatchNorm2d(32, eps=1e-05, momentum=0.1, affine=True, track_running_stats=True)\n",
       "        (nonlin): ELU(alpha=1.0, inplace)\n",
       "      )\n",
       "      (layer1): Sequential(\n",
       "        (conv): Conv2d(32, 32, kernel_size=(7, 7), stride=(1, 1), padding=(3, 3), bias=False)\n",
       "        (norm): BatchNorm2d(32, eps=1e-05, momentum=0.1, affine=True, track_running_stats=True)\n",
       "        (nonlin): ELU(alpha=1.0, inplace)\n",
       "      )\n",
       "      (layer2): Sequential(\n",
       "        (conv): Conv2d(64, 32, kernel_size=(7, 7), stride=(1, 1), padding=(3, 3), bias=False)\n",
       "        (norm): BatchNorm2d(32, eps=1e-05, momentum=0.1, affine=True, track_running_stats=True)\n",
       "        (nonlin): ELU(alpha=1.0, inplace)\n",
       "      )\n",
       "    )\n",
       "  ) [GaussianLaplaceCore regularizers: gamma_hidden = 0.1|gamma_input = 100.0|skip = 3]\n",
       "  \n",
       "  (readout): SpatialTransformerPyramid2dReadout(\n",
       "    (group074-22846-10-16-0): SpatialTransformerPyramid2d (96 x 22 x 50 -> 7344) with bias  -> Pyramid(scale_n=5, padding=2, downsample=0, type=gauss5x5)\n",
       "    \n",
       "  ) [SpatialTransformerPyramid2dReadout regularizers: gamma_features = 1.0|positive = 0]\n",
       "  \n",
       "  (modulator): MLPModulator(\n",
       "    (group074-22846-10-16-0): MLP(\n",
       "      (mlp): Sequential(\n",
       "        (0): Linear(in_features=3, out_features=10, bias=True)\n",
       "        (1): ReLU()\n",
       "        (2): Linear(in_features=10, out_features=10, bias=True)\n",
       "        (3): ReLU()\n",
       "      )\n",
       "      (linear): Linear(in_features=10, out_features=7344, bias=True)\n",
       "    )\n",
       "  )\n",
       "  (shifter): MLPShifter(\n",
       "    (group074-22846-10-16-0): MLP(\n",
       "      (mlp): Sequential(\n",
       "        (0): Linear(in_features=2, out_features=5, bias=True)\n",
       "        (1): Tanh()\n",
       "        (2): Linear(in_features=5, out_features=5, bias=True)\n",
       "        (3): Tanh()\n",
       "        (4): Linear(in_features=5, out_features=2, bias=True)\n",
       "        (5): Tanh()\n",
       "      )\n",
       "    )\n",
       "  ) [MLPShifter regularizers: gamma_shifter = 0.0]\n",
       "  \n",
       "  (nonlinearity): Elu1()\n",
       ")"
      ]
     },
     "execution_count": 237,
     "metadata": {},
     "output_type": "execute_result"
    }
   ],
   "source": [
    "model"
   ]
  },
  {
   "cell_type": "code",
   "execution_count": 235,
   "metadata": {},
   "outputs": [],
   "source": [
    "from featurevis.ops import Feature_Vector_Ensemble"
   ]
  },
  {
   "cell_type": "code",
   "execution_count": 247,
   "metadata": {},
   "outputs": [],
   "source": [
    "feavec_f = Feature_Vector_Ensemble([model], 'group074-22846-10-16-0', neuron_idx = [1, 2], device='cuda')"
   ]
  },
  {
   "cell_type": "code",
   "execution_count": 248,
   "metadata": {},
   "outputs": [
    {
     "data": {
      "text/plain": [
       "torch.Size([1, 576, 2])"
      ]
     },
     "execution_count": 248,
     "metadata": {},
     "output_type": "execute_result"
    }
   ],
   "source": [
    "feavec_f(im).shape"
   ]
  },
  {
   "cell_type": "code",
   "execution_count": 244,
   "metadata": {},
   "outputs": [
    {
     "data": {
      "text/plain": [
       "6.0"
      ]
     },
     "execution_count": 244,
     "metadata": {},
     "output_type": "execute_result"
    }
   ],
   "source": [
    "576/96"
   ]
  },
  {
   "cell_type": "code",
   "execution_count": 86,
   "metadata": {},
   "outputs": [],
   "source": [
    "neurons, avg_corrs = (ToyEnsembleEval.Unit & 'multi_session =1 and train_id = 1').fetch('neuron_id', 'unit_avg_corr', order_by='neuron_id')\n",
    "top_idxs = np.argsort(avg_corrs)[-500:] # 500 neurons with largest avg_corr\n",
    "np.random.seed(0)\n",
    "target_idxs = np.random.choice(top_idxs, 100, replace=False)\n",
    "target_neurons = neurons[target_idxs]"
   ]
  },
  {
   "cell_type": "code",
   "execution_count": 87,
   "metadata": {},
   "outputs": [
    {
     "data": {
      "text/plain": [
       "array([5903,  147, 4741,  660, 4509, 1259, 4603, 1186, 5669, 5458, 1078,\n",
       "       4108, 4786, 5442, 4218, 3787, 1728, 4048, 4344, 4590, 1318, 4219,\n",
       "       4491, 4236, 3998, 4202, 4073, 4656, 5953,  103, 4288, 1571, 3673,\n",
       "       3902, 3408, 1916, 4756,  503, 6032, 5051,  875, 4418, 4373,  668,\n",
       "       6546, 1591, 1032, 3545, 4675, 4065, 4714,  965, 1079,  404, 4986,\n",
       "       5193, 4588, 4453,   27, 4848, 5346, 4488, 4915,  368, 4877, 4898,\n",
       "       4021, 1197, 3335, 1016, 5812, 4448,  262, 3583, 1137, 3398, 4669,\n",
       "       4624,  129, 3359, 1028, 1478, 4150, 4396, 5094, 4412, 4617, 6421,\n",
       "       4342, 6456,  111, 4154, 3636, 4367, 4982, 5961,  124, 4486, 5760,\n",
       "       3987])"
      ]
     },
     "execution_count": 87,
     "metadata": {},
     "output_type": "execute_result"
    }
   ],
   "source": [
    "target_neurons"
   ]
  },
  {
   "cell_type": "code",
   "execution_count": 40,
   "metadata": {},
   "outputs": [],
   "source": [
    "all_targets = []\n",
    "for i in np.arange(20):\n",
    "    np.random.seed(i)\n",
    "    target_idxs = np.random.choice(top_idxs, 50, replace=False)\n",
    "    all_targets.append(target_idxs)"
   ]
  },
  {
   "cell_type": "code",
   "execution_count": 47,
   "metadata": {},
   "outputs": [],
   "source": [
    "non_target_pool = np.array(list(set(top_idxs) - set(np.unique(np.stack(all_targets).flatten()))))"
   ]
  },
  {
   "cell_type": "code",
   "execution_count": 65,
   "metadata": {},
   "outputs": [],
   "source": [
    "np.random.seed(0)\n",
    "chosen_non = np.random.choice(non_target_pool, 19, replace=False)"
   ]
  },
  {
   "cell_type": "code",
   "execution_count": 57,
   "metadata": {},
   "outputs": [],
   "source": [
    "target_idxs = []\n",
    "for i in np.arange(20):\n",
    "    np.random.seed(i)\n",
    "    idx = np.random.choice(top_idxs, 1, replace=False)\n",
    "    target_idxs.append(idx.item())"
   ]
  },
  {
   "cell_type": "code",
   "execution_count": 58,
   "metadata": {},
   "outputs": [],
   "source": [
    "target_neurons = neurons[target_idxs]"
   ]
  },
  {
   "cell_type": "code",
   "execution_count": 66,
   "metadata": {},
   "outputs": [],
   "source": [
    "non_neurons = neurons[chosen_non]"
   ]
  },
  {
   "cell_type": "code",
   "execution_count": 67,
   "metadata": {},
   "outputs": [
    {
     "data": {
      "text/plain": [
       "(19,)"
      ]
     },
     "execution_count": 67,
     "metadata": {},
     "output_type": "execute_result"
    }
   ],
   "source": [
    "np.unique(target_neurons).shape"
   ]
  },
  {
   "cell_type": "code",
   "execution_count": 70,
   "metadata": {},
   "outputs": [
    {
     "data": {
      "text/plain": [
       "array([ 848,  945, 1078, 1079, 1246, 1563, 2090, 2819, 3359, 3837, 4143,\n",
       "       4150, 4754, 4778, 4844, 4920, 5193, 5903, 6461])"
      ]
     },
     "execution_count": 70,
     "metadata": {},
     "output_type": "execute_result"
    }
   ],
   "source": [
    "np.unique(target_neurons)"
   ]
  },
  {
   "cell_type": "code",
   "execution_count": 71,
   "metadata": {},
   "outputs": [
    {
     "data": {
      "text/plain": [
       "array([ 206,  338,  440,  871, 1288, 1393, 1978, 3392, 3407, 3580, 3640,\n",
       "       3853, 4160, 4166, 4877, 4895, 5202, 5209, 5346])"
      ]
     },
     "execution_count": 71,
     "metadata": {},
     "output_type": "execute_result"
    }
   ],
   "source": [
    "np.unique(non_neurons)"
   ]
  },
  {
   "cell_type": "code",
   "execution_count": 2,
   "metadata": {},
   "outputs": [],
   "source": [
    "neurons = [ 848,  945, 1078, 1079, 1246, 1563, 2090, 2819, 3359, 3837, 4143,\n",
    "       4150, 4754, 4778, 4844, 4920, 5193, 5903, 6461, 206,  \n",
    "       338,  440,  871, 1288, 1393, 1978, 3392, 3407, 3580, 3640,\n",
    "       3853, 4160, 4166, 4877, 4895, 5202, 5209, 5346]"
   ]
  },
  {
   "cell_type": "code",
   "execution_count": 3,
   "metadata": {},
   "outputs": [],
   "source": [
    "keys1 = (ToyMEI.key_source & 'train_id in (1) and teacher_id = 2 and ensemble_id = 3 and multi_session in (1)' & [{'neuron_id': n} for n in neurons]).fetch('KEY')\n"
   ]
  },
  {
   "cell_type": "code",
   "execution_count": 128,
   "metadata": {},
   "outputs": [],
   "source": [
    "deis = (ToyDEIGoodRun & keys1 & 'weight_id > 4').fetch('meis')"
   ]
  },
  {
   "cell_type": "markdown",
   "metadata": {},
   "source": [
    "### MEI and DEI correaltion (generated from each session's model) for target and non-target cells"
   ]
  },
  {
   "cell_type": "code",
   "execution_count": 10,
   "metadata": {},
   "outputs": [],
   "source": [
    "ms, train_ids, neuron_ids, meis, mei_acts, deis, distances = (ToyMaskFixedMEI * ToyDEIGoodRun).fetch('multi_session', 'train_id', 'neuron_id', 'mei', 'activation', 'meis', 'avg_negeuclidean', order_by=('multi_session', 'train_id', 'neuron_id'))\n",
    "                                                                                      "
   ]
  },
  {
   "cell_type": "code",
   "execution_count": 32,
   "metadata": {
    "collapsed": true,
    "jupyter": {
     "outputs_hidden": true
    }
   },
   "outputs": [
    {
     "data": {
      "text/plain": [
       "array([[ 2, 12],\n",
       "       [ 2, 12],\n",
       "       [ 2, 12],\n",
       "       [ 2, 12],\n",
       "       [ 2, 12],\n",
       "       [ 2, 12],\n",
       "       [ 2, 12],\n",
       "       [ 2, 12],\n",
       "       [ 2, 12],\n",
       "       [ 2, 12],\n",
       "       [ 2, 12],\n",
       "       [ 2, 12],\n",
       "       [ 2, 12],\n",
       "       [ 2, 12],\n",
       "       [ 2, 12],\n",
       "       [ 2, 12],\n",
       "       [ 2, 12],\n",
       "       [ 2, 12],\n",
       "       [ 2, 12],\n",
       "       [ 2, 12],\n",
       "       [ 2, 12],\n",
       "       [ 2, 12],\n",
       "       [ 2, 12],\n",
       "       [ 2, 12],\n",
       "       [ 2, 12],\n",
       "       [ 2, 12],\n",
       "       [ 2, 12],\n",
       "       [ 2, 12],\n",
       "       [ 2, 12],\n",
       "       [ 2, 12],\n",
       "       [ 2, 12],\n",
       "       [ 2, 12],\n",
       "       [ 2, 12],\n",
       "       [ 2, 12],\n",
       "       [ 2, 12],\n",
       "       [ 2, 12],\n",
       "       [ 2, 12],\n",
       "       [ 2, 12],\n",
       "       [ 2, 12],\n",
       "       [ 2, 12],\n",
       "       [ 2, 12],\n",
       "       [ 2, 12],\n",
       "       [ 2, 12],\n",
       "       [ 2, 12],\n",
       "       [ 2, 12],\n",
       "       [ 2, 12],\n",
       "       [ 2, 12],\n",
       "       [ 2, 12],\n",
       "       [ 2, 12],\n",
       "       [ 2, 12],\n",
       "       [ 2, 12],\n",
       "       [ 2, 12],\n",
       "       [ 2, 12],\n",
       "       [ 2, 12],\n",
       "       [ 2, 12],\n",
       "       [ 2, 12],\n",
       "       [ 2, 12],\n",
       "       [ 2, 12],\n",
       "       [ 2, 12],\n",
       "       [ 2, 12],\n",
       "       [ 2, 12],\n",
       "       [ 2, 12],\n",
       "       [ 2, 12],\n",
       "       [ 2, 12],\n",
       "       [ 2, 12],\n",
       "       [ 2, 12],\n",
       "       [ 2, 12],\n",
       "       [ 2, 12],\n",
       "       [ 2, 12],\n",
       "       [ 2, 12],\n",
       "       [ 2, 12],\n",
       "       [ 2, 12],\n",
       "       [ 2, 12],\n",
       "       [ 2, 12],\n",
       "       [ 2, 12],\n",
       "       [ 2, 12],\n",
       "       [ 2, 12],\n",
       "       [ 2, 12],\n",
       "       [ 2, 12],\n",
       "       [ 2, 12],\n",
       "       [ 2, 12],\n",
       "       [ 2, 12],\n",
       "       [ 2, 12],\n",
       "       [ 2, 12],\n",
       "       [ 2, 12],\n",
       "       [ 2, 12],\n",
       "       [ 2, 12],\n",
       "       [ 2, 12],\n",
       "       [ 2, 12],\n",
       "       [ 2, 12],\n",
       "       [ 2, 12],\n",
       "       [ 2, 12],\n",
       "       [ 2, 12],\n",
       "       [ 2, 12],\n",
       "       [ 2, 12],\n",
       "       [ 2, 12],\n",
       "       [ 2, 12],\n",
       "       [ 2, 12],\n",
       "       [ 2, 12],\n",
       "       [ 2, 12]])"
      ]
     },
     "execution_count": 32,
     "metadata": {},
     "output_type": "execute_result"
    }
   ],
   "source": [
    "np.array(list(zip(ms, train_ids))).reshape(9, -1, 2)[2]"
   ]
  },
  {
   "cell_type": "code",
   "execution_count": 8,
   "metadata": {},
   "outputs": [
    {
     "data": {
      "text/html": [
       "\n",
       "        \n",
       "        <style type=\"text/css\">\n",
       "            .Relation{\n",
       "                border-collapse:collapse;\n",
       "            }\n",
       "            .Relation th{\n",
       "                background: #A0A0A0; color: #ffffff; padding:4px; border:#f0e0e0 1px solid;\n",
       "                font-weight: normal; font-family: monospace; font-size: 100%;\n",
       "            }\n",
       "            .Relation td{\n",
       "                padding:4px; border:#f0e0e0 1px solid; font-size:100%;\n",
       "            }\n",
       "            .Relation tr:nth-child(odd){\n",
       "                background: #ffffff;\n",
       "            }\n",
       "            .Relation tr:nth-child(even){\n",
       "                background: #f3f1ff;\n",
       "            }\n",
       "            /* Tooltip container */\n",
       "            .djtooltip {\n",
       "            }\n",
       "            /* Tooltip text */\n",
       "            .djtooltip .djtooltiptext {\n",
       "                visibility: hidden;\n",
       "                width: 120px;\n",
       "                background-color: black;\n",
       "                color: #fff;\n",
       "                text-align: center;\n",
       "                padding: 5px 0;\n",
       "                border-radius: 6px;\n",
       "                /* Position the tooltip text - see examples below! */\n",
       "                position: absolute;\n",
       "                z-index: 1;\n",
       "            }\n",
       "            #primary {\n",
       "                font-weight: bold;\n",
       "                color: black;\n",
       "            }\n",
       "\n",
       "            #nonprimary {\n",
       "                font-weight: normal;\n",
       "                color: white;\n",
       "            }\n",
       "\n",
       "            /* Show the tooltip text when you mouse over the tooltip container */\n",
       "            .djtooltip:hover .djtooltiptext {\n",
       "                visibility: visible;\n",
       "            }\n",
       "        </style>\n",
       "        \n",
       "        \n",
       "            <div style=\"max-height:1000px;max-width:1500px;overflow:auto;\">\n",
       "            <table border=\"1\" class=\"Relation\">\n",
       "                <thead> <tr style=\"text-align: right;\"> <th> <div class=\"djtooltip\">\n",
       "                                <p id=\"primary\">multi_session</p>\n",
       "                                <span class=\"djtooltiptext\"></span>\n",
       "                            </div></th><th><div class=\"djtooltip\">\n",
       "                                <p id=\"primary\">train_id</p>\n",
       "                                <span class=\"djtooltiptext\"></span>\n",
       "                            </div> </th> </tr> </thead>\n",
       "                <tbody> <tr> <td>1</td>\n",
       "<td>1</td></tr><tr><td>2</td>\n",
       "<td>3</td></tr><tr><td>2</td>\n",
       "<td>12</td></tr><tr><td>2</td>\n",
       "<td>13</td></tr><tr><td>2</td>\n",
       "<td>14</td></tr><tr><td>3</td>\n",
       "<td>3</td></tr><tr><td>3</td>\n",
       "<td>12</td></tr><tr><td>3</td>\n",
       "<td>13</td></tr><tr><td>3</td>\n",
       "<td>14</td> </tr> </tbody>\n",
       "            </table>\n",
       "            \n",
       "            <p>Total: 9</p></div>\n",
       "            "
      ],
      "text/plain": [
       "*multi_session *train_id   \n",
       "+------------+ +----------+\n",
       "1              1           \n",
       "2              3           \n",
       "2              12          \n",
       "2              13          \n",
       "2              14          \n",
       "3              3           \n",
       "3              12          \n",
       "3              13          \n",
       "3              14          \n",
       " (Total: 9)"
      ]
     },
     "execution_count": 8,
     "metadata": {},
     "output_type": "execute_result"
    }
   ],
   "source": [
    "dj.U('multi_session', 'train_id') & ToyMaskFixedMEI()"
   ]
  },
  {
   "cell_type": "code",
   "execution_count": 136,
   "metadata": {},
   "outputs": [
    {
     "data": {
      "text/html": [
       "\n",
       "        \n",
       "        <style type=\"text/css\">\n",
       "            .Relation{\n",
       "                border-collapse:collapse;\n",
       "            }\n",
       "            .Relation th{\n",
       "                background: #A0A0A0; color: #ffffff; padding:4px; border:#f0e0e0 1px solid;\n",
       "                font-weight: normal; font-family: monospace; font-size: 100%;\n",
       "            }\n",
       "            .Relation td{\n",
       "                padding:4px; border:#f0e0e0 1px solid; font-size:100%;\n",
       "            }\n",
       "            .Relation tr:nth-child(odd){\n",
       "                background: #ffffff;\n",
       "            }\n",
       "            .Relation tr:nth-child(even){\n",
       "                background: #f3f1ff;\n",
       "            }\n",
       "            /* Tooltip container */\n",
       "            .djtooltip {\n",
       "            }\n",
       "            /* Tooltip text */\n",
       "            .djtooltip .djtooltiptext {\n",
       "                visibility: hidden;\n",
       "                width: 120px;\n",
       "                background-color: black;\n",
       "                color: #fff;\n",
       "                text-align: center;\n",
       "                padding: 5px 0;\n",
       "                border-radius: 6px;\n",
       "                /* Position the tooltip text - see examples below! */\n",
       "                position: absolute;\n",
       "                z-index: 1;\n",
       "            }\n",
       "            #primary {\n",
       "                font-weight: bold;\n",
       "                color: black;\n",
       "            }\n",
       "\n",
       "            #nonprimary {\n",
       "                font-weight: normal;\n",
       "                color: white;\n",
       "            }\n",
       "\n",
       "            /* Show the tooltip text when you mouse over the tooltip container */\n",
       "            .djtooltip:hover .djtooltiptext {\n",
       "                visibility: visible;\n",
       "            }\n",
       "        </style>\n",
       "        \n",
       "        <b></b>\n",
       "            <div style=\"max-height:1000px;max-width:1500px;overflow:auto;\">\n",
       "            <table border=\"1\" class=\"Relation\">\n",
       "                <thead> <tr style=\"text-align: right;\"> <th> <div class=\"djtooltip\">\n",
       "                                <p id=\"primary\">multi_session</p>\n",
       "                                <span class=\"djtooltiptext\"></span>\n",
       "                            </div></th><th><div class=\"djtooltip\">\n",
       "                                <p id=\"primary\">teacher_id</p>\n",
       "                                <span class=\"djtooltiptext\"></span>\n",
       "                            </div></th><th><div class=\"djtooltip\">\n",
       "                                <p id=\"primary\">noise_id</p>\n",
       "                                <span class=\"djtooltiptext\"></span>\n",
       "                            </div></th><th><div class=\"djtooltip\">\n",
       "                                <p id=\"primary\">ensemble_id</p>\n",
       "                                <span class=\"djtooltiptext\"></span>\n",
       "                            </div></th><th><div class=\"djtooltip\">\n",
       "                                <p id=\"primary\">train_id</p>\n",
       "                                <span class=\"djtooltiptext\"></span>\n",
       "                            </div></th><th><div class=\"djtooltip\">\n",
       "                                <p id=\"primary\">net_hash</p>\n",
       "                                <span class=\"djtooltiptext\">unique identifier for configuration</span>\n",
       "                            </div></th><th><div class=\"djtooltip\">\n",
       "                                <p id=\"primary\">ssid</p>\n",
       "                                <span class=\"djtooltiptext\">seed set id</span>\n",
       "                            </div></th><th><div class=\"djtooltip\">\n",
       "                                <p id=\"nonprimary\">n_models</p>\n",
       "                                <span class=\"djtooltiptext\">number of models that are combined</span>\n",
       "                            </div></th><th><div class=\"djtooltip\">\n",
       "                                <p id=\"nonprimary\">test_score</p>\n",
       "                                <span class=\"djtooltiptext\">average testset score</span>\n",
       "                            </div></th><th><div class=\"djtooltip\">\n",
       "                                <p id=\"nonprimary\">avg_corr</p>\n",
       "                                <span class=\"djtooltiptext\">correlation of mean neural responses and mean model predictions over repeats</span>\n",
       "                            </div> </th> </tr> </thead>\n",
       "                <tbody> <tr> <td>2</td>\n",
       "<td>2</td>\n",
       "<td>1</td>\n",
       "<td>3</td>\n",
       "<td>15</td>\n",
       "<td>433595b577c488b6ffbd61e2b999c9e0</td>\n",
       "<td>1</td>\n",
       "<td>8</td>\n",
       "<td>0.629454</td>\n",
       "<td>0.7985</td></tr><tr><td>2</td>\n",
       "<td>2</td>\n",
       "<td>1</td>\n",
       "<td>3</td>\n",
       "<td>16</td>\n",
       "<td>433595b577c488b6ffbd61e2b999c9e0</td>\n",
       "<td>1</td>\n",
       "<td>8</td>\n",
       "<td>0.634844</td>\n",
       "<td>0.805394</td></tr><tr><td>2</td>\n",
       "<td>2</td>\n",
       "<td>1</td>\n",
       "<td>3</td>\n",
       "<td>17</td>\n",
       "<td>433595b577c488b6ffbd61e2b999c9e0</td>\n",
       "<td>1</td>\n",
       "<td>8</td>\n",
       "<td>0.638708</td>\n",
       "<td>0.810376</td></tr><tr><td>2</td>\n",
       "<td>2</td>\n",
       "<td>1</td>\n",
       "<td>3</td>\n",
       "<td>18</td>\n",
       "<td>433595b577c488b6ffbd61e2b999c9e0</td>\n",
       "<td>1</td>\n",
       "<td>8</td>\n",
       "<td>0.633166</td>\n",
       "<td>0.8033</td></tr><tr><td>2</td>\n",
       "<td>2</td>\n",
       "<td>1</td>\n",
       "<td>3</td>\n",
       "<td>19</td>\n",
       "<td>433595b577c488b6ffbd61e2b999c9e0</td>\n",
       "<td>1</td>\n",
       "<td>8</td>\n",
       "<td>0.635481</td>\n",
       "<td>0.806314</td></tr><tr><td>2</td>\n",
       "<td>2</td>\n",
       "<td>1</td>\n",
       "<td>3</td>\n",
       "<td>20</td>\n",
       "<td>433595b577c488b6ffbd61e2b999c9e0</td>\n",
       "<td>1</td>\n",
       "<td>8</td>\n",
       "<td>0.632384</td>\n",
       "<td>0.802254</td></tr><tr><td>2</td>\n",
       "<td>2</td>\n",
       "<td>1</td>\n",
       "<td>3</td>\n",
       "<td>21</td>\n",
       "<td>433595b577c488b6ffbd61e2b999c9e0</td>\n",
       "<td>1</td>\n",
       "<td>8</td>\n",
       "<td>0.632547</td>\n",
       "<td>0.802488</td></tr><tr><td>2</td>\n",
       "<td>2</td>\n",
       "<td>1</td>\n",
       "<td>3</td>\n",
       "<td>22</td>\n",
       "<td>433595b577c488b6ffbd61e2b999c9e0</td>\n",
       "<td>1</td>\n",
       "<td>8</td>\n",
       "<td>0.635692</td>\n",
       "<td>0.806517</td></tr><tr><td>2</td>\n",
       "<td>2</td>\n",
       "<td>1</td>\n",
       "<td>3</td>\n",
       "<td>23</td>\n",
       "<td>433595b577c488b6ffbd61e2b999c9e0</td>\n",
       "<td>1</td>\n",
       "<td>8</td>\n",
       "<td>0.633931</td>\n",
       "<td>0.80424</td></tr><tr><td>2</td>\n",
       "<td>2</td>\n",
       "<td>1</td>\n",
       "<td>3</td>\n",
       "<td>24</td>\n",
       "<td>433595b577c488b6ffbd61e2b999c9e0</td>\n",
       "<td>1</td>\n",
       "<td>8</td>\n",
       "<td>0.633764</td>\n",
       "<td>0.804101</td></tr><tr><td>2</td>\n",
       "<td>2</td>\n",
       "<td>1</td>\n",
       "<td>3</td>\n",
       "<td>25</td>\n",
       "<td>433595b577c488b6ffbd61e2b999c9e0</td>\n",
       "<td>1</td>\n",
       "<td>8</td>\n",
       "<td>0.631988</td>\n",
       "<td>0.801812</td></tr><tr><td>2</td>\n",
       "<td>2</td>\n",
       "<td>1</td>\n",
       "<td>3</td>\n",
       "<td>26</td>\n",
       "<td>433595b577c488b6ffbd61e2b999c9e0</td>\n",
       "<td>1</td>\n",
       "<td>8</td>\n",
       "<td>0.634213</td>\n",
       "<td>0.804573</td> </tr> </tbody>\n",
       "            </table>\n",
       "            <p>...</p>\n",
       "            <p>Total: 35</p></div>\n",
       "            "
      ],
      "text/plain": [
       "*multi_session *teacher_id    *noise_id    *ensemble_id   *train_id    *net_hash      *ssid    n_models     test_score     avg_corr    \n",
       "+------------+ +------------+ +----------+ +------------+ +----------+ +------------+ +------+ +----------+ +------------+ +----------+\n",
       "2              2              1            3              15           433595b577c488 1        8            0.629454       0.7985      \n",
       "2              2              1            3              16           433595b577c488 1        8            0.634844       0.805394    \n",
       "2              2              1            3              17           433595b577c488 1        8            0.638708       0.810376    \n",
       "2              2              1            3              18           433595b577c488 1        8            0.633166       0.8033      \n",
       "2              2              1            3              19           433595b577c488 1        8            0.635481       0.806314    \n",
       "2              2              1            3              20           433595b577c488 1        8            0.632384       0.802254    \n",
       "2              2              1            3              21           433595b577c488 1        8            0.632547       0.802488    \n",
       "2              2              1            3              22           433595b577c488 1        8            0.635692       0.806517    \n",
       "2              2              1            3              23           433595b577c488 1        8            0.633931       0.80424     \n",
       "2              2              1            3              24           433595b577c488 1        8            0.633764       0.804101    \n",
       "2              2              1            3              25           433595b577c488 1        8            0.631988       0.801812    \n",
       "2              2              1            3              26           433595b577c488 1        8            0.634213       0.804573    \n",
       "   ...\n",
       " (Total: 35)"
      ]
     },
     "execution_count": 136,
     "metadata": {},
     "output_type": "execute_result"
    }
   ],
   "source": [
    "ToyEnsembleEval & 'multi_session = 2 and train_id > 14'"
   ]
  },
  {
   "cell_type": "code",
   "execution_count": 57,
   "metadata": {},
   "outputs": [
    {
     "data": {
      "text/html": [
       "\n",
       "        \n",
       "        <style type=\"text/css\">\n",
       "            .Relation{\n",
       "                border-collapse:collapse;\n",
       "            }\n",
       "            .Relation th{\n",
       "                background: #A0A0A0; color: #ffffff; padding:4px; border:#f0e0e0 1px solid;\n",
       "                font-weight: normal; font-family: monospace; font-size: 100%;\n",
       "            }\n",
       "            .Relation td{\n",
       "                padding:4px; border:#f0e0e0 1px solid; font-size:100%;\n",
       "            }\n",
       "            .Relation tr:nth-child(odd){\n",
       "                background: #ffffff;\n",
       "            }\n",
       "            .Relation tr:nth-child(even){\n",
       "                background: #f3f1ff;\n",
       "            }\n",
       "            /* Tooltip container */\n",
       "            .djtooltip {\n",
       "            }\n",
       "            /* Tooltip text */\n",
       "            .djtooltip .djtooltiptext {\n",
       "                visibility: hidden;\n",
       "                width: 120px;\n",
       "                background-color: black;\n",
       "                color: #fff;\n",
       "                text-align: center;\n",
       "                padding: 5px 0;\n",
       "                border-radius: 6px;\n",
       "                /* Position the tooltip text - see examples below! */\n",
       "                position: absolute;\n",
       "                z-index: 1;\n",
       "            }\n",
       "            #primary {\n",
       "                font-weight: bold;\n",
       "                color: black;\n",
       "            }\n",
       "\n",
       "            #nonprimary {\n",
       "                font-weight: normal;\n",
       "                color: white;\n",
       "            }\n",
       "\n",
       "            /* Show the tooltip text when you mouse over the tooltip container */\n",
       "            .djtooltip:hover .djtooltiptext {\n",
       "                visibility: visible;\n",
       "            }\n",
       "        </style>\n",
       "        \n",
       "        <b></b>\n",
       "            <div style=\"max-height:1000px;max-width:1500px;overflow:auto;\">\n",
       "            <table border=\"1\" class=\"Relation\">\n",
       "                <thead> <tr style=\"text-align: right;\"> <th> <div class=\"djtooltip\">\n",
       "                                <p id=\"primary\">multi_session</p>\n",
       "                                <span class=\"djtooltiptext\"></span>\n",
       "                            </div></th><th><div class=\"djtooltip\">\n",
       "                                <p id=\"primary\">teacher_id</p>\n",
       "                                <span class=\"djtooltiptext\"></span>\n",
       "                            </div></th><th><div class=\"djtooltip\">\n",
       "                                <p id=\"primary\">noise_id</p>\n",
       "                                <span class=\"djtooltiptext\"></span>\n",
       "                            </div></th><th><div class=\"djtooltip\">\n",
       "                                <p id=\"primary\">ensemble_id</p>\n",
       "                                <span class=\"djtooltiptext\"></span>\n",
       "                            </div></th><th><div class=\"djtooltip\">\n",
       "                                <p id=\"primary\">train_id</p>\n",
       "                                <span class=\"djtooltiptext\"></span>\n",
       "                            </div></th><th><div class=\"djtooltip\">\n",
       "                                <p id=\"primary\">net_hash</p>\n",
       "                                <span class=\"djtooltiptext\">unique identifier for configuration</span>\n",
       "                            </div></th><th><div class=\"djtooltip\">\n",
       "                                <p id=\"primary\">seed</p>\n",
       "                                <span class=\"djtooltiptext\">random seed</span>\n",
       "                            </div></th><th><div class=\"djtooltip\">\n",
       "                                <p id=\"nonprimary\">val_corr</p>\n",
       "                                <span class=\"djtooltiptext\">validation correlation</span>\n",
       "                            </div></th><th><div class=\"djtooltip\">\n",
       "                                <p id=\"nonprimary\">model</p>\n",
       "                                <span class=\"djtooltiptext\">stored model</span>\n",
       "                            </div></th><th><div class=\"djtooltip\">\n",
       "                                <p id=\"nonprimary\">neurons</p>\n",
       "                                <span class=\"djtooltiptext\">number of neurons</span>\n",
       "                            </div></th><th><div class=\"djtooltip\">\n",
       "                                <p id=\"nonprimary\">pearson</p>\n",
       "                                <span class=\"djtooltiptext\">average test correlation on single trial responses</span>\n",
       "                            </div> </th> </tr> </thead>\n",
       "                <tbody> <tr> <td>3</td>\n",
       "<td>2</td>\n",
       "<td>1</td>\n",
       "<td>3</td>\n",
       "<td>15</td>\n",
       "<td>433595b577c488b6ffbd61e2b999c9e0</td>\n",
       "<td>102</td>\n",
       "<td>0.630314</td>\n",
       "<td>=BLOB=</td>\n",
       "<td>2044</td>\n",
       "<td>0.618823</td></tr><tr><td>3</td>\n",
       "<td>2</td>\n",
       "<td>1</td>\n",
       "<td>3</td>\n",
       "<td>15</td>\n",
       "<td>433595b577c488b6ffbd61e2b999c9e0</td>\n",
       "<td>103</td>\n",
       "<td>0.635212</td>\n",
       "<td>=BLOB=</td>\n",
       "<td>2044</td>\n",
       "<td>0.621698</td></tr><tr><td>3</td>\n",
       "<td>2</td>\n",
       "<td>1</td>\n",
       "<td>3</td>\n",
       "<td>15</td>\n",
       "<td>433595b577c488b6ffbd61e2b999c9e0</td>\n",
       "<td>104</td>\n",
       "<td>0.635984</td>\n",
       "<td>=BLOB=</td>\n",
       "<td>2044</td>\n",
       "<td>0.622858</td></tr><tr><td>3</td>\n",
       "<td>2</td>\n",
       "<td>1</td>\n",
       "<td>3</td>\n",
       "<td>15</td>\n",
       "<td>433595b577c488b6ffbd61e2b999c9e0</td>\n",
       "<td>105</td>\n",
       "<td>0.632517</td>\n",
       "<td>=BLOB=</td>\n",
       "<td>2044</td>\n",
       "<td>0.620361</td></tr><tr><td>3</td>\n",
       "<td>2</td>\n",
       "<td>1</td>\n",
       "<td>3</td>\n",
       "<td>15</td>\n",
       "<td>433595b577c488b6ffbd61e2b999c9e0</td>\n",
       "<td>106</td>\n",
       "<td>0.629671</td>\n",
       "<td>=BLOB=</td>\n",
       "<td>2044</td>\n",
       "<td>0.61657</td></tr><tr><td>3</td>\n",
       "<td>2</td>\n",
       "<td>1</td>\n",
       "<td>3</td>\n",
       "<td>15</td>\n",
       "<td>433595b577c488b6ffbd61e2b999c9e0</td>\n",
       "<td>2606</td>\n",
       "<td>0.624516</td>\n",
       "<td>=BLOB=</td>\n",
       "<td>2044</td>\n",
       "<td>0.612354</td></tr><tr><td>3</td>\n",
       "<td>2</td>\n",
       "<td>1</td>\n",
       "<td>3</td>\n",
       "<td>15</td>\n",
       "<td>433595b577c488b6ffbd61e2b999c9e0</td>\n",
       "<td>99999</td>\n",
       "<td>0.630942</td>\n",
       "<td>=BLOB=</td>\n",
       "<td>2044</td>\n",
       "<td>0.617902</td></tr><tr><td>3</td>\n",
       "<td>2</td>\n",
       "<td>1</td>\n",
       "<td>3</td>\n",
       "<td>16</td>\n",
       "<td>433595b577c488b6ffbd61e2b999c9e0</td>\n",
       "<td>101</td>\n",
       "<td>0.626219</td>\n",
       "<td>=BLOB=</td>\n",
       "<td>2044</td>\n",
       "<td>0.616551</td></tr><tr><td>3</td>\n",
       "<td>2</td>\n",
       "<td>1</td>\n",
       "<td>3</td>\n",
       "<td>16</td>\n",
       "<td>433595b577c488b6ffbd61e2b999c9e0</td>\n",
       "<td>102</td>\n",
       "<td>0.626096</td>\n",
       "<td>=BLOB=</td>\n",
       "<td>2044</td>\n",
       "<td>0.613635</td></tr><tr><td>3</td>\n",
       "<td>2</td>\n",
       "<td>1</td>\n",
       "<td>3</td>\n",
       "<td>16</td>\n",
       "<td>433595b577c488b6ffbd61e2b999c9e0</td>\n",
       "<td>103</td>\n",
       "<td>0.638366</td>\n",
       "<td>=BLOB=</td>\n",
       "<td>2044</td>\n",
       "<td>0.626813</td></tr><tr><td>3</td>\n",
       "<td>2</td>\n",
       "<td>1</td>\n",
       "<td>3</td>\n",
       "<td>16</td>\n",
       "<td>433595b577c488b6ffbd61e2b999c9e0</td>\n",
       "<td>104</td>\n",
       "<td>0.626474</td>\n",
       "<td>=BLOB=</td>\n",
       "<td>2044</td>\n",
       "<td>0.615313</td></tr><tr><td>3</td>\n",
       "<td>2</td>\n",
       "<td>1</td>\n",
       "<td>3</td>\n",
       "<td>16</td>\n",
       "<td>433595b577c488b6ffbd61e2b999c9e0</td>\n",
       "<td>105</td>\n",
       "<td>0.643017</td>\n",
       "<td>=BLOB=</td>\n",
       "<td>2044</td>\n",
       "<td>0.632417</td> </tr> </tbody>\n",
       "            </table>\n",
       "            <p>...</p>\n",
       "            <p>Total: 623</p></div>\n",
       "            "
      ],
      "text/plain": [
       "*multi_session *teacher_id    *noise_id    *ensemble_id   *train_id    *net_hash      *seed     val_corr     model      neurons     pearson     \n",
       "+------------+ +------------+ +----------+ +------------+ +----------+ +------------+ +-------+ +----------+ +--------+ +---------+ +----------+\n",
       "3              2              1            3              15           433595b577c488 102       0.630314     =BLOB=     2044        0.618823    \n",
       "3              2              1            3              15           433595b577c488 103       0.635212     =BLOB=     2044        0.621698    \n",
       "3              2              1            3              15           433595b577c488 104       0.635984     =BLOB=     2044        0.622858    \n",
       "3              2              1            3              15           433595b577c488 105       0.632517     =BLOB=     2044        0.620361    \n",
       "3              2              1            3              15           433595b577c488 106       0.629671     =BLOB=     2044        0.61657     \n",
       "3              2              1            3              15           433595b577c488 2606      0.624516     =BLOB=     2044        0.612354    \n",
       "3              2              1            3              15           433595b577c488 99999     0.630942     =BLOB=     2044        0.617902    \n",
       "3              2              1            3              16           433595b577c488 101       0.626219     =BLOB=     2044        0.616551    \n",
       "3              2              1            3              16           433595b577c488 102       0.626096     =BLOB=     2044        0.613635    \n",
       "3              2              1            3              16           433595b577c488 103       0.638366     =BLOB=     2044        0.626813    \n",
       "3              2              1            3              16           433595b577c488 104       0.626474     =BLOB=     2044        0.615313    \n",
       "3              2              1            3              16           433595b577c488 105       0.643017     =BLOB=     2044        0.632417    \n",
       "   ...\n",
       " (Total: 623)"
      ]
     },
     "execution_count": 57,
     "metadata": {},
     "output_type": "execute_result"
    }
   ],
   "source": [
    "StudentEnsembleModels & 'multi_session = 3 and train_id >14'"
   ]
  },
  {
   "cell_type": "code",
   "execution_count": 17,
   "metadata": {},
   "outputs": [
    {
     "data": {
      "text/html": [
       "\n",
       "        \n",
       "        <style type=\"text/css\">\n",
       "            .Relation{\n",
       "                border-collapse:collapse;\n",
       "            }\n",
       "            .Relation th{\n",
       "                background: #A0A0A0; color: #ffffff; padding:4px; border:#f0e0e0 1px solid;\n",
       "                font-weight: normal; font-family: monospace; font-size: 100%;\n",
       "            }\n",
       "            .Relation td{\n",
       "                padding:4px; border:#f0e0e0 1px solid; font-size:100%;\n",
       "            }\n",
       "            .Relation tr:nth-child(odd){\n",
       "                background: #ffffff;\n",
       "            }\n",
       "            .Relation tr:nth-child(even){\n",
       "                background: #f3f1ff;\n",
       "            }\n",
       "            /* Tooltip container */\n",
       "            .djtooltip {\n",
       "            }\n",
       "            /* Tooltip text */\n",
       "            .djtooltip .djtooltiptext {\n",
       "                visibility: hidden;\n",
       "                width: 120px;\n",
       "                background-color: black;\n",
       "                color: #fff;\n",
       "                text-align: center;\n",
       "                padding: 5px 0;\n",
       "                border-radius: 6px;\n",
       "                /* Position the tooltip text - see examples below! */\n",
       "                position: absolute;\n",
       "                z-index: 1;\n",
       "            }\n",
       "            #primary {\n",
       "                font-weight: bold;\n",
       "                color: black;\n",
       "            }\n",
       "\n",
       "            #nonprimary {\n",
       "                font-weight: normal;\n",
       "                color: white;\n",
       "            }\n",
       "\n",
       "            /* Show the tooltip text when you mouse over the tooltip container */\n",
       "            .djtooltip:hover .djtooltiptext {\n",
       "                visibility: visible;\n",
       "            }\n",
       "        </style>\n",
       "        \n",
       "        <b>job reservation table for `neurostatic_active_learning`</b>\n",
       "            <div style=\"max-height:1000px;max-width:1500px;overflow:auto;\">\n",
       "            <table border=\"1\" class=\"Relation\">\n",
       "                <thead> <tr style=\"text-align: right;\"> <th> <div class=\"djtooltip\">\n",
       "                                <p id=\"primary\">table_name</p>\n",
       "                                <span class=\"djtooltiptext\">className of the table</span>\n",
       "                            </div></th><th><div class=\"djtooltip\">\n",
       "                                <p id=\"primary\">key_hash</p>\n",
       "                                <span class=\"djtooltiptext\">key hash</span>\n",
       "                            </div></th><th><div class=\"djtooltip\">\n",
       "                                <p id=\"nonprimary\">status</p>\n",
       "                                <span class=\"djtooltiptext\">if tuple is missing, the job is available</span>\n",
       "                            </div></th><th><div class=\"djtooltip\">\n",
       "                                <p id=\"nonprimary\">key</p>\n",
       "                                <span class=\"djtooltiptext\">structure containing the key</span>\n",
       "                            </div></th><th><div class=\"djtooltip\">\n",
       "                                <p id=\"nonprimary\">error_message</p>\n",
       "                                <span class=\"djtooltiptext\">error message returned if failed</span>\n",
       "                            </div></th><th><div class=\"djtooltip\">\n",
       "                                <p id=\"nonprimary\">error_stack</p>\n",
       "                                <span class=\"djtooltiptext\">error stack if failed</span>\n",
       "                            </div></th><th><div class=\"djtooltip\">\n",
       "                                <p id=\"nonprimary\">user</p>\n",
       "                                <span class=\"djtooltiptext\">database user</span>\n",
       "                            </div></th><th><div class=\"djtooltip\">\n",
       "                                <p id=\"nonprimary\">host</p>\n",
       "                                <span class=\"djtooltiptext\">system hostname</span>\n",
       "                            </div></th><th><div class=\"djtooltip\">\n",
       "                                <p id=\"nonprimary\">pid</p>\n",
       "                                <span class=\"djtooltiptext\">system process id</span>\n",
       "                            </div></th><th><div class=\"djtooltip\">\n",
       "                                <p id=\"nonprimary\">connection_id</p>\n",
       "                                <span class=\"djtooltiptext\">connection_id()</span>\n",
       "                            </div></th><th><div class=\"djtooltip\">\n",
       "                                <p id=\"nonprimary\">timestamp</p>\n",
       "                                <span class=\"djtooltiptext\">automatic timestamp</span>\n",
       "                            </div> </th> </tr> </thead>\n",
       "                <tbody> <tr> <td>__student_ensemble_models</td>\n",
       "<td>6a589186fbd2d3d1fde0f3662b9b82f2</td>\n",
       "<td>reserved</td>\n",
       "<td>=BLOB=</td>\n",
       "<td></td>\n",
       "<td>=BLOB=</td>\n",
       "<td>zhiwei@10.21.17.114</td>\n",
       "<td>gil-desktop</td>\n",
       "<td>1</td>\n",
       "<td>64456</td>\n",
       "<td>2020-08-11 20:25:43</td> </tr> </tbody>\n",
       "            </table>\n",
       "            \n",
       "            <p>Total: 1</p></div>\n",
       "            "
      ],
      "text/plain": [
       "*table_name    *key_hash      status       key        error_message  error_stac user           host           pid     connection_id  timestamp     \n",
       "+------------+ +------------+ +----------+ +--------+ +------------+ +--------+ +------------+ +------------+ +-----+ +------------+ +------------+\n",
       "__student_ense 6a589186fbd2d3 reserved     =BLOB=                    =BLOB=     zhiwei@10.21.1 gil-desktop    1       64456          2020-08-11 20:\n",
       " (Total: 1)"
      ]
     },
     "execution_count": 17,
     "metadata": {},
     "output_type": "execute_result"
    }
   ],
   "source": [
    "active_learning.schema.jobs"
   ]
  },
  {
   "cell_type": "code",
   "execution_count": 36,
   "metadata": {},
   "outputs": [],
   "source": [
    "(active_learning.schema.jobs & 'status = \"error\"').delete()"
   ]
  },
  {
   "cell_type": "markdown",
   "metadata": {},
   "source": [
    "### MEI and DEI correaltion (generated from initial session student model) for target and non-target cells"
   ]
  },
  {
   "cell_type": "code",
   "execution_count": 4,
   "metadata": {},
   "outputs": [],
   "source": [
    "neuron_ids, meis, mei_acts, deis, distances = (ToyMaskFixedMEI * ToyDEIGoodRun & keys1).fetch('neuron_id', 'mei', 'activation', 'meis', 'avg_negeuclidean', order_by='neuron_id')\n",
    "                                                                                      "
   ]
  },
  {
   "cell_type": "code",
   "execution_count": 5,
   "metadata": {},
   "outputs": [],
   "source": [
    "batch = np.concatenate([np.stack(meis).reshape(-1, 1, 36, 64), np.stack(deis)], axis=1)"
   ]
  },
  {
   "cell_type": "code",
   "execution_count": 6,
   "metadata": {},
   "outputs": [],
   "source": [
    "batch = np.transpose(batch, (1, 0, 2, 3))"
   ]
  },
  {
   "cell_type": "code",
   "execution_count": 7,
   "metadata": {},
   "outputs": [],
   "source": [
    "images = list(itertools.chain(*zip(*batch))) # a list of (mei, dei1, dei2) for 38 neurons\n"
   ]
  },
  {
   "cell_type": "code",
   "execution_count": 8,
   "metadata": {},
   "outputs": [],
   "source": [
    "def get_teacher_resps(images, neurons, teacher_id=2, repeats=30):\n",
    "    key = (TeacherAssignment & {'teacher_id': teacher_id}).fetch1()\n",
    "\n",
    "    model = [(static_models.Model & key).load_network()]\n",
    "    mean_eyepos = ([0, 0] if (Dataset.TrainStats & key).fetch1('norm_eyepos') else\n",
    "                   (Dataset.TrainStats & key).fetch1('mean_eyepos'))\n",
    "    mean_eyepos = torch.tensor(mean_eyepos, dtype=torch.float32,\n",
    "                               device='cuda').unsqueeze(0)\n",
    "\n",
    "    neuron_idx = (base.UnitRanking.Unit & {'group_id':key['group_id'], 'net_hash':key['net_hash'], 'data_hash': key['data_hash']} & [{'neuron_id': n} for n in neurons]).fetch('neuron_id', order_by='neuron_id')\n",
    "    \n",
    "    model = models.Ensemble(model, key['readout_key'], eye_pos=mean_eyepos,\n",
    "                                neuron_idx=neuron_idx, average_batch=False, device='cuda')\n",
    "\n",
    "    image_tensors = torch.as_tensor(np.stack(images)[:, None], device='cuda')\n",
    "\n",
    "    with torch.no_grad():\n",
    "        resps = model(image_tensors).cpu().numpy().squeeze() # images * neurons\n",
    "    \n",
    "    # add noise to clean responses \n",
    "    noisy_resps = []\n",
    "    np.random.seed(0)\n",
    "    for i in range(repeats):\n",
    "        noisy_resps.append(np.random.normal(resps, resps/3, size=None).clip(min=0))\n",
    "    noisy_resps = np.stack(noisy_resps)\n",
    "    mean_noisy_resps = np.mean(noisy_resps, 0)\n",
    "    \n",
    "    return resps, noisy_resps, mean_noisy_resps"
   ]
  },
  {
   "cell_type": "code",
   "execution_count": 9,
   "metadata": {},
   "outputs": [],
   "source": [
    "def get_student_resps(images, neurons, train_id, multi_session, teacher_id=2, noise_id=1, ensemble_id=3):\n",
    "    # Get idx for each neuron_id\n",
    "    neuron_idx = (TeacherInputResponse.Unit & {'teacher_id': teacher_id} & [{'neuron_id': n} for n in neurons]).fetch('col_id', order_by='neuron_id')\n",
    "    \n",
    "    model_key = {'multi_session': multi_session, 'train_id': train_id, 'teacher_id': teacher_id, 'ensemble_id': ensemble_id, 'noise_id': noise_id}\n",
    "    all_keys = (StudentEnsembleModels & model_key).fetch('KEY')\n",
    "    all_models = [(StudentEnsembleModels & mk).load_network() for mk in all_keys]\n",
    "    readout_key = (MultiSessionDataset & model_key).fetch1('name')\n",
    "    model = models.Ensemble(all_models, readout_key, neuron_idx=neuron_idx, device='cuda', average_batch=False)\n",
    "    \n",
    "    image_tensors = torch.as_tensor(np.stack(images)[:, None], device='cuda')\n",
    "    with torch.no_grad():\n",
    "        resps = model(image_tensors).cpu().numpy().squeeze() # images * neurons\n",
    "        \n",
    "    return resps"
   ]
  },
  {
   "cell_type": "code",
   "execution_count": 10,
   "metadata": {
    "collapsed": true,
    "jupyter": {
     "outputs_hidden": true
    }
   },
   "outputs": [
    {
     "name": "stdout",
     "output_type": "stream",
     "text": [
      "12-08-2020:05:05:17 INFO     configs.py           298:\t Ignoring input arguments: \"net_hash\", \"core_hash\", \"ro_hash\", \"shift_hash\", \"mod_hash\", \"train_hash\", \"data_hash\", \"group_id\", \"seed\", \"train_type\", \"schedule\", \"max_epoch\"when creating datasets\n",
      "12-08-2020:05:05:17 INFO     configs.py           278:\t Loading None dataset with tier=train\n",
      "12-08-2020:05:05:17 INFO     data_schemas.py     1191:\t Data will be (images,behavior,pupil_center,responses)\n",
      "12-08-2020:05:05:17 INFO     data_schemas.py     1194:\t Loading dataset group106-23555-5-12-0 --> /external/cache/static23555-5-12-preproc0.h5\n",
      "12-08-2020:05:05:17 INFO     configs.py           283:\t Adding stats_source \"all\" to dataset\n",
      "12-08-2020:05:05:17 INFO     configs.py           286:\t Using statistics source all\n",
      "12-08-2020:05:05:17 INFO     configs.py           160:\t Excluding \"\" from normalization\n",
      "12-08-2020:05:05:17 INFO     configs.py           252:\t Using stimulus.Frame as stimulus type for all datasets\n",
      "12-08-2020:05:05:17 INFO     configs.py           255:\t Stimulus sources: \"stimulus.Frame\"\n",
      "12-08-2020:05:05:17 INFO     configs.py           189:\t Using all trial from stimulus.Frame\n",
      "12-08-2020:05:05:17 INFO     configs.py           263:\t Selecting trials from stimulus.Frame and tier=train for dataset group106-23555-5-12-0\n",
      "12-08-2020:05:05:17 INFO     configs.py           265:\t Found 4496 active trials\n",
      "12-08-2020:05:05:17 INFO     configs.py           225:\t Loader sampler is SubsetRandomSampler\n",
      "12-08-2020:05:05:17 INFO     configs.py           227:\t Number of samples in the loader will be 4496\n",
      "12-08-2020:05:05:17 INFO     configs.py           229:\t Number of batches in the loader will be 75\n",
      "12-08-2020:05:05:17 INFO     configs.py           307:\t Subsampling to layer L2/3 and area(s) \"V1\"\n",
      "12-08-2020:05:05:17 INFO     configs.py           691:\t Setting cuda=False\n"
     ]
    },
    {
     "name": "stderr",
     "output_type": "stream",
     "text": [
      "/src/neuro_data/neuro_data/static_images/transforms.py:36: H5pyDeprecationWarning: dataset.value has been deprecated. Use dataset[()] instead.\n",
      "  self._inputs_mean = data.statistics['images/{}/mean'.format(stats_source)].value\n",
      "/src/neuro_data/neuro_data/static_images/transforms.py:41: H5pyDeprecationWarning: dataset.value has been deprecated. Use dataset[()] instead.\n",
      "  self._inputs_std = data.statistics['images/{}/std'.format(stats_source)].value\n"
     ]
    },
    {
     "name": "stdout",
     "output_type": "stream",
     "text": [
      "12-08-2020:05:05:18 INFO     readouts.py          145:\t Ignoring input {'ro_hash': '5c0c374cb9a0edef3987e58620830df8'} when creating ModifiedSpatialTransformerPyramid2dReadout\n",
      "12-08-2020:05:05:18 INFO     shifters.py           55:\t Ignoring input {'shift_hash': '05c69a4aeaeea5e48fa8fc5e70181d67'} when creating MLPShifter\n",
      "12-08-2020:05:05:18 INFO     shifters.py           27:\t Ignoring input {} when creating MLP\n",
      "12-08-2020:05:05:18 INFO     modulators.py         47:\t Ignoring input {'mod_hash': 'a757e992ae449e3057ff1d512a51bd1e'} when creating MLPModulator\n",
      "12-08-2020:05:05:18 INFO     modulators.py         18:\t Ignoring input {} when creating MLP\n"
     ]
    }
   ],
   "source": [
    "clean_resps, teacher_resps, mean_teacher_resps = get_teacher_resps(images, neuron_ids)"
   ]
  },
  {
   "cell_type": "code",
   "execution_count": 11,
   "metadata": {
    "collapsed": true,
    "jupyter": {
     "outputs_hidden": true
    }
   },
   "outputs": [
    {
     "name": "stdout",
     "output_type": "stream",
     "text": [
      "12-08-2020:05:05:20 INFO     configs.py           619:\t Ignoring input arguments: \"net_hash\", \"core_hash\", \"ro_hash\", \"shift_hash\", \"mod_hash\", \"train_hash\", \"data_hash\", \"multi_session\", \"teacher_id\", \"noise_id\", \"ensemble_id\", \"train_id\", \"seed\", \"train_type\", \"schedule\", \"max_epoch\"when creating datasets\n",
      "12-08-2020:05:05:20 INFO     configs.py           597:\t Loading None dataset with tier=train\n",
      "12-08-2020:05:05:20 INFO     active_learning.py  1048:\t Fetching data for {'net_hash': '433595b577c488b6ffbd61e2b999c9e0', 'core_hash': '86e5871c1e9112ad5c408697c2ad7d4d', 'ro_hash': 'a206f6da6a16ea14081062a1e2436b48', 'shift_hash': 'bafd7322c6e97d25b6299b5d6fe8920b', 'mod_hash': 'bafd7322c6e97d25b6299b5d6fe8920b', 'train_hash': 'd6c92f34f275b8d2ee52d6b6df257274', 'data_hash': 'b7f468f8e1669aa24bd8fb7216ff59c2', 'multi_session': 1, 'teacher_id': 2, 'noise_id': 1, 'ensemble_id': 3, 'train_id': 1, 'seed': 101, 'data_description': \"V1 L2/3 on stimulus.Frame. normalize=False on all (except '')\", 'stats_source': 'all', 'normalize': 0, 'normalize_per_image': 0, 'layer': 'L2/3', 'brain_area': 'V1'}\n",
      "12-08-2020:05:05:20 INFO     active_learning.py  1052:\t Data will be (images,responses)\n",
      "12-08-2020:05:05:20 INFO     active_learning.py  1054:\t Loading dataset multi2-teacher2-noise1-ensemble3-train1 --> /external/cache/static-actlearn-multi1-teacher2-noise1-ensemble3-train1.h5\n",
      "12-08-2020:05:05:20 INFO     configs.py           603:\t Adding stats_source \"all\" to dataset\n",
      "12-08-2020:05:05:20 INFO     configs.py           606:\t Using statistics source all\n",
      "12-08-2020:05:05:20 INFO     configs.py           479:\t Excluding \"\" from normalization\n",
      "12-08-2020:05:05:20 INFO     configs.py           571:\t Using stimulus.Frame as stimulus type for all datasets\n",
      "12-08-2020:05:05:20 INFO     configs.py           574:\t Stimulus sources: \"stimulus.Frame\"\n",
      "12-08-2020:05:05:20 INFO     configs.py           508:\t Using all trial from stimulus.Frame\n",
      "12-08-2020:05:05:20 INFO     configs.py           582:\t Selecting trials from stimulus.Frame and tier=train for dataset multi2-teacher2-noise1-ensemble3-train1\n",
      "12-08-2020:05:05:20 INFO     configs.py           584:\t Found 1000 active trials\n",
      "12-08-2020:05:05:20 INFO     configs.py           544:\t Loader sampler is SubsetRandomSampler\n",
      "12-08-2020:05:05:20 INFO     configs.py           546:\t Number of samples in the loader will be 1000\n",
      "12-08-2020:05:05:20 INFO     configs.py           548:\t Number of batches in the loader will be 17\n",
      "12-08-2020:05:05:20 INFO     configs.py           628:\t Subsampling to layer L2/3 and area(s) \"V1\"\n",
      "12-08-2020:05:05:20 INFO     configs.py           691:\t Setting cuda=False\n",
      "12-08-2020:05:05:20 INFO     cores.py             101:\t Ignoring input {'core_hash': '86e5871c1e9112ad5c408697c2ad7d4d'} when creating GaussianLaplaceCore\n",
      "12-08-2020:05:05:20 INFO     readouts.py          145:\t Ignoring input {'ro_hash': 'a206f6da6a16ea14081062a1e2436b48'} when creating SpatialTransformerPyramid2dReadout\n",
      "12-08-2020:05:05:20 INFO     configs.py           619:\t Ignoring input arguments: \"net_hash\", \"core_hash\", \"ro_hash\", \"shift_hash\", \"mod_hash\", \"train_hash\", \"data_hash\", \"multi_session\", \"teacher_id\", \"noise_id\", \"ensemble_id\", \"train_id\", \"seed\", \"train_type\", \"schedule\", \"max_epoch\"when creating datasets\n",
      "12-08-2020:05:05:20 INFO     configs.py           597:\t Loading None dataset with tier=train\n",
      "12-08-2020:05:05:20 INFO     active_learning.py  1048:\t Fetching data for {'net_hash': '433595b577c488b6ffbd61e2b999c9e0', 'core_hash': '86e5871c1e9112ad5c408697c2ad7d4d', 'ro_hash': 'a206f6da6a16ea14081062a1e2436b48', 'shift_hash': 'bafd7322c6e97d25b6299b5d6fe8920b', 'mod_hash': 'bafd7322c6e97d25b6299b5d6fe8920b', 'train_hash': 'd6c92f34f275b8d2ee52d6b6df257274', 'data_hash': 'b7f468f8e1669aa24bd8fb7216ff59c2', 'multi_session': 1, 'teacher_id': 2, 'noise_id': 1, 'ensemble_id': 3, 'train_id': 1, 'seed': 102, 'data_description': \"V1 L2/3 on stimulus.Frame. normalize=False on all (except '')\", 'stats_source': 'all', 'normalize': 0, 'normalize_per_image': 0, 'layer': 'L2/3', 'brain_area': 'V1'}\n",
      "12-08-2020:05:05:20 INFO     active_learning.py  1052:\t Data will be (images,responses)\n",
      "12-08-2020:05:05:20 INFO     active_learning.py  1054:\t Loading dataset multi2-teacher2-noise1-ensemble3-train1 --> /external/cache/static-actlearn-multi1-teacher2-noise1-ensemble3-train1.h5\n",
      "12-08-2020:05:05:20 INFO     configs.py           603:\t Adding stats_source \"all\" to dataset\n",
      "12-08-2020:05:05:20 INFO     configs.py           606:\t Using statistics source all\n",
      "12-08-2020:05:05:20 INFO     configs.py           479:\t Excluding \"\" from normalization\n",
      "12-08-2020:05:05:20 INFO     configs.py           571:\t Using stimulus.Frame as stimulus type for all datasets\n",
      "12-08-2020:05:05:20 INFO     configs.py           574:\t Stimulus sources: \"stimulus.Frame\"\n",
      "12-08-2020:05:05:20 INFO     configs.py           508:\t Using all trial from stimulus.Frame\n",
      "12-08-2020:05:05:20 INFO     configs.py           582:\t Selecting trials from stimulus.Frame and tier=train for dataset multi2-teacher2-noise1-ensemble3-train1\n",
      "12-08-2020:05:05:20 INFO     configs.py           584:\t Found 1000 active trials\n",
      "12-08-2020:05:05:20 INFO     configs.py           544:\t Loader sampler is SubsetRandomSampler\n",
      "12-08-2020:05:05:20 INFO     configs.py           546:\t Number of samples in the loader will be 1000\n",
      "12-08-2020:05:05:20 INFO     configs.py           548:\t Number of batches in the loader will be 17\n",
      "12-08-2020:05:05:20 INFO     configs.py           628:\t Subsampling to layer L2/3 and area(s) \"V1\"\n",
      "12-08-2020:05:05:20 INFO     configs.py           691:\t Setting cuda=False\n",
      "12-08-2020:05:05:20 INFO     cores.py             101:\t Ignoring input {'core_hash': '86e5871c1e9112ad5c408697c2ad7d4d'} when creating GaussianLaplaceCore\n",
      "12-08-2020:05:05:20 INFO     readouts.py          145:\t Ignoring input {'ro_hash': 'a206f6da6a16ea14081062a1e2436b48'} when creating SpatialTransformerPyramid2dReadout\n",
      "12-08-2020:05:05:21 INFO     configs.py           619:\t Ignoring input arguments: \"net_hash\", \"core_hash\", \"ro_hash\", \"shift_hash\", \"mod_hash\", \"train_hash\", \"data_hash\", \"multi_session\", \"teacher_id\", \"noise_id\", \"ensemble_id\", \"train_id\", \"seed\", \"train_type\", \"schedule\", \"max_epoch\"when creating datasets\n",
      "12-08-2020:05:05:21 INFO     configs.py           597:\t Loading None dataset with tier=train\n",
      "12-08-2020:05:05:21 INFO     active_learning.py  1048:\t Fetching data for {'net_hash': '433595b577c488b6ffbd61e2b999c9e0', 'core_hash': '86e5871c1e9112ad5c408697c2ad7d4d', 'ro_hash': 'a206f6da6a16ea14081062a1e2436b48', 'shift_hash': 'bafd7322c6e97d25b6299b5d6fe8920b', 'mod_hash': 'bafd7322c6e97d25b6299b5d6fe8920b', 'train_hash': 'd6c92f34f275b8d2ee52d6b6df257274', 'data_hash': 'b7f468f8e1669aa24bd8fb7216ff59c2', 'multi_session': 1, 'teacher_id': 2, 'noise_id': 1, 'ensemble_id': 3, 'train_id': 1, 'seed': 103, 'data_description': \"V1 L2/3 on stimulus.Frame. normalize=False on all (except '')\", 'stats_source': 'all', 'normalize': 0, 'normalize_per_image': 0, 'layer': 'L2/3', 'brain_area': 'V1'}\n",
      "12-08-2020:05:05:21 INFO     active_learning.py  1052:\t Data will be (images,responses)\n",
      "12-08-2020:05:05:21 INFO     active_learning.py  1054:\t Loading dataset multi2-teacher2-noise1-ensemble3-train1 --> /external/cache/static-actlearn-multi1-teacher2-noise1-ensemble3-train1.h5\n",
      "12-08-2020:05:05:21 INFO     configs.py           603:\t Adding stats_source \"all\" to dataset\n",
      "12-08-2020:05:05:21 INFO     configs.py           606:\t Using statistics source all\n",
      "12-08-2020:05:05:21 INFO     configs.py           479:\t Excluding \"\" from normalization\n",
      "12-08-2020:05:05:21 INFO     configs.py           571:\t Using stimulus.Frame as stimulus type for all datasets\n",
      "12-08-2020:05:05:21 INFO     configs.py           574:\t Stimulus sources: \"stimulus.Frame\"\n",
      "12-08-2020:05:05:21 INFO     configs.py           508:\t Using all trial from stimulus.Frame\n",
      "12-08-2020:05:05:21 INFO     configs.py           582:\t Selecting trials from stimulus.Frame and tier=train for dataset multi2-teacher2-noise1-ensemble3-train1\n",
      "12-08-2020:05:05:21 INFO     configs.py           584:\t Found 1000 active trials\n",
      "12-08-2020:05:05:21 INFO     configs.py           544:\t Loader sampler is SubsetRandomSampler\n",
      "12-08-2020:05:05:21 INFO     configs.py           546:\t Number of samples in the loader will be 1000\n",
      "12-08-2020:05:05:21 INFO     configs.py           548:\t Number of batches in the loader will be 17\n",
      "12-08-2020:05:05:21 INFO     configs.py           628:\t Subsampling to layer L2/3 and area(s) \"V1\"\n",
      "12-08-2020:05:05:21 INFO     configs.py           691:\t Setting cuda=False\n",
      "12-08-2020:05:05:21 INFO     cores.py             101:\t Ignoring input {'core_hash': '86e5871c1e9112ad5c408697c2ad7d4d'} when creating GaussianLaplaceCore\n",
      "12-08-2020:05:05:21 INFO     readouts.py          145:\t Ignoring input {'ro_hash': 'a206f6da6a16ea14081062a1e2436b48'} when creating SpatialTransformerPyramid2dReadout\n",
      "12-08-2020:05:05:21 INFO     configs.py           619:\t Ignoring input arguments: \"net_hash\", \"core_hash\", \"ro_hash\", \"shift_hash\", \"mod_hash\", \"train_hash\", \"data_hash\", \"multi_session\", \"teacher_id\", \"noise_id\", \"ensemble_id\", \"train_id\", \"seed\", \"train_type\", \"schedule\", \"max_epoch\"when creating datasets\n",
      "12-08-2020:05:05:21 INFO     configs.py           597:\t Loading None dataset with tier=train\n",
      "12-08-2020:05:05:21 INFO     active_learning.py  1048:\t Fetching data for {'net_hash': '433595b577c488b6ffbd61e2b999c9e0', 'core_hash': '86e5871c1e9112ad5c408697c2ad7d4d', 'ro_hash': 'a206f6da6a16ea14081062a1e2436b48', 'shift_hash': 'bafd7322c6e97d25b6299b5d6fe8920b', 'mod_hash': 'bafd7322c6e97d25b6299b5d6fe8920b', 'train_hash': 'd6c92f34f275b8d2ee52d6b6df257274', 'data_hash': 'b7f468f8e1669aa24bd8fb7216ff59c2', 'multi_session': 1, 'teacher_id': 2, 'noise_id': 1, 'ensemble_id': 3, 'train_id': 1, 'seed': 104, 'data_description': \"V1 L2/3 on stimulus.Frame. normalize=False on all (except '')\", 'stats_source': 'all', 'normalize': 0, 'normalize_per_image': 0, 'layer': 'L2/3', 'brain_area': 'V1'}\n",
      "12-08-2020:05:05:21 INFO     active_learning.py  1052:\t Data will be (images,responses)\n",
      "12-08-2020:05:05:21 INFO     active_learning.py  1054:\t Loading dataset multi2-teacher2-noise1-ensemble3-train1 --> /external/cache/static-actlearn-multi1-teacher2-noise1-ensemble3-train1.h5\n",
      "12-08-2020:05:05:21 INFO     configs.py           603:\t Adding stats_source \"all\" to dataset\n",
      "12-08-2020:05:05:21 INFO     configs.py           606:\t Using statistics source all\n",
      "12-08-2020:05:05:21 INFO     configs.py           479:\t Excluding \"\" from normalization\n",
      "12-08-2020:05:05:21 INFO     configs.py           571:\t Using stimulus.Frame as stimulus type for all datasets\n",
      "12-08-2020:05:05:21 INFO     configs.py           574:\t Stimulus sources: \"stimulus.Frame\"\n",
      "12-08-2020:05:05:21 INFO     configs.py           508:\t Using all trial from stimulus.Frame\n",
      "12-08-2020:05:05:21 INFO     configs.py           582:\t Selecting trials from stimulus.Frame and tier=train for dataset multi2-teacher2-noise1-ensemble3-train1\n",
      "12-08-2020:05:05:21 INFO     configs.py           584:\t Found 1000 active trials\n",
      "12-08-2020:05:05:21 INFO     configs.py           544:\t Loader sampler is SubsetRandomSampler\n",
      "12-08-2020:05:05:21 INFO     configs.py           546:\t Number of samples in the loader will be 1000\n",
      "12-08-2020:05:05:21 INFO     configs.py           548:\t Number of batches in the loader will be 17\n",
      "12-08-2020:05:05:21 INFO     configs.py           628:\t Subsampling to layer L2/3 and area(s) \"V1\"\n",
      "12-08-2020:05:05:21 INFO     configs.py           691:\t Setting cuda=False\n",
      "12-08-2020:05:05:21 INFO     cores.py             101:\t Ignoring input {'core_hash': '86e5871c1e9112ad5c408697c2ad7d4d'} when creating GaussianLaplaceCore\n",
      "12-08-2020:05:05:21 INFO     readouts.py          145:\t Ignoring input {'ro_hash': 'a206f6da6a16ea14081062a1e2436b48'} when creating SpatialTransformerPyramid2dReadout\n",
      "12-08-2020:05:05:21 INFO     configs.py           619:\t Ignoring input arguments: \"net_hash\", \"core_hash\", \"ro_hash\", \"shift_hash\", \"mod_hash\", \"train_hash\", \"data_hash\", \"multi_session\", \"teacher_id\", \"noise_id\", \"ensemble_id\", \"train_id\", \"seed\", \"train_type\", \"schedule\", \"max_epoch\"when creating datasets\n",
      "12-08-2020:05:05:21 INFO     configs.py           597:\t Loading None dataset with tier=train\n",
      "12-08-2020:05:05:21 INFO     active_learning.py  1048:\t Fetching data for {'net_hash': '433595b577c488b6ffbd61e2b999c9e0', 'core_hash': '86e5871c1e9112ad5c408697c2ad7d4d', 'ro_hash': 'a206f6da6a16ea14081062a1e2436b48', 'shift_hash': 'bafd7322c6e97d25b6299b5d6fe8920b', 'mod_hash': 'bafd7322c6e97d25b6299b5d6fe8920b', 'train_hash': 'd6c92f34f275b8d2ee52d6b6df257274', 'data_hash': 'b7f468f8e1669aa24bd8fb7216ff59c2', 'multi_session': 1, 'teacher_id': 2, 'noise_id': 1, 'ensemble_id': 3, 'train_id': 1, 'seed': 105, 'data_description': \"V1 L2/3 on stimulus.Frame. normalize=False on all (except '')\", 'stats_source': 'all', 'normalize': 0, 'normalize_per_image': 0, 'layer': 'L2/3', 'brain_area': 'V1'}\n",
      "12-08-2020:05:05:21 INFO     active_learning.py  1052:\t Data will be (images,responses)\n",
      "12-08-2020:05:05:21 INFO     active_learning.py  1054:\t Loading dataset multi2-teacher2-noise1-ensemble3-train1 --> /external/cache/static-actlearn-multi1-teacher2-noise1-ensemble3-train1.h5\n",
      "12-08-2020:05:05:21 INFO     configs.py           603:\t Adding stats_source \"all\" to dataset\n",
      "12-08-2020:05:05:21 INFO     configs.py           606:\t Using statistics source all\n",
      "12-08-2020:05:05:21 INFO     configs.py           479:\t Excluding \"\" from normalization\n",
      "12-08-2020:05:05:21 INFO     configs.py           571:\t Using stimulus.Frame as stimulus type for all datasets\n",
      "12-08-2020:05:05:21 INFO     configs.py           574:\t Stimulus sources: \"stimulus.Frame\"\n",
      "12-08-2020:05:05:21 INFO     configs.py           508:\t Using all trial from stimulus.Frame\n",
      "12-08-2020:05:05:21 INFO     configs.py           582:\t Selecting trials from stimulus.Frame and tier=train for dataset multi2-teacher2-noise1-ensemble3-train1\n",
      "12-08-2020:05:05:21 INFO     configs.py           584:\t Found 1000 active trials\n",
      "12-08-2020:05:05:21 INFO     configs.py           544:\t Loader sampler is SubsetRandomSampler\n",
      "12-08-2020:05:05:21 INFO     configs.py           546:\t Number of samples in the loader will be 1000\n",
      "12-08-2020:05:05:21 INFO     configs.py           548:\t Number of batches in the loader will be 17\n",
      "12-08-2020:05:05:21 INFO     configs.py           628:\t Subsampling to layer L2/3 and area(s) \"V1\"\n",
      "12-08-2020:05:05:21 INFO     configs.py           691:\t Setting cuda=False\n",
      "12-08-2020:05:05:21 INFO     cores.py             101:\t Ignoring input {'core_hash': '86e5871c1e9112ad5c408697c2ad7d4d'} when creating GaussianLaplaceCore\n",
      "12-08-2020:05:05:21 INFO     readouts.py          145:\t Ignoring input {'ro_hash': 'a206f6da6a16ea14081062a1e2436b48'} when creating SpatialTransformerPyramid2dReadout\n",
      "12-08-2020:05:05:21 INFO     configs.py           619:\t Ignoring input arguments: \"net_hash\", \"core_hash\", \"ro_hash\", \"shift_hash\", \"mod_hash\", \"train_hash\", \"data_hash\", \"multi_session\", \"teacher_id\", \"noise_id\", \"ensemble_id\", \"train_id\", \"seed\", \"train_type\", \"schedule\", \"max_epoch\"when creating datasets\n",
      "12-08-2020:05:05:21 INFO     configs.py           597:\t Loading None dataset with tier=train\n",
      "12-08-2020:05:05:21 INFO     active_learning.py  1048:\t Fetching data for {'net_hash': '433595b577c488b6ffbd61e2b999c9e0', 'core_hash': '86e5871c1e9112ad5c408697c2ad7d4d', 'ro_hash': 'a206f6da6a16ea14081062a1e2436b48', 'shift_hash': 'bafd7322c6e97d25b6299b5d6fe8920b', 'mod_hash': 'bafd7322c6e97d25b6299b5d6fe8920b', 'train_hash': 'd6c92f34f275b8d2ee52d6b6df257274', 'data_hash': 'b7f468f8e1669aa24bd8fb7216ff59c2', 'multi_session': 1, 'teacher_id': 2, 'noise_id': 1, 'ensemble_id': 3, 'train_id': 1, 'seed': 106, 'data_description': \"V1 L2/3 on stimulus.Frame. normalize=False on all (except '')\", 'stats_source': 'all', 'normalize': 0, 'normalize_per_image': 0, 'layer': 'L2/3', 'brain_area': 'V1'}\n",
      "12-08-2020:05:05:21 INFO     active_learning.py  1052:\t Data will be (images,responses)\n",
      "12-08-2020:05:05:21 INFO     active_learning.py  1054:\t Loading dataset multi2-teacher2-noise1-ensemble3-train1 --> /external/cache/static-actlearn-multi1-teacher2-noise1-ensemble3-train1.h5\n",
      "12-08-2020:05:05:21 INFO     configs.py           603:\t Adding stats_source \"all\" to dataset\n",
      "12-08-2020:05:05:21 INFO     configs.py           606:\t Using statistics source all\n",
      "12-08-2020:05:05:21 INFO     configs.py           479:\t Excluding \"\" from normalization\n",
      "12-08-2020:05:05:21 INFO     configs.py           571:\t Using stimulus.Frame as stimulus type for all datasets\n",
      "12-08-2020:05:05:21 INFO     configs.py           574:\t Stimulus sources: \"stimulus.Frame\"\n",
      "12-08-2020:05:05:21 INFO     configs.py           508:\t Using all trial from stimulus.Frame\n",
      "12-08-2020:05:05:21 INFO     configs.py           582:\t Selecting trials from stimulus.Frame and tier=train for dataset multi2-teacher2-noise1-ensemble3-train1\n",
      "12-08-2020:05:05:21 INFO     configs.py           584:\t Found 1000 active trials\n",
      "12-08-2020:05:05:21 INFO     configs.py           544:\t Loader sampler is SubsetRandomSampler\n",
      "12-08-2020:05:05:21 INFO     configs.py           546:\t Number of samples in the loader will be 1000\n",
      "12-08-2020:05:05:21 INFO     configs.py           548:\t Number of batches in the loader will be 17\n",
      "12-08-2020:05:05:21 INFO     configs.py           628:\t Subsampling to layer L2/3 and area(s) \"V1\"\n",
      "12-08-2020:05:05:21 INFO     configs.py           691:\t Setting cuda=False\n",
      "12-08-2020:05:05:21 INFO     cores.py             101:\t Ignoring input {'core_hash': '86e5871c1e9112ad5c408697c2ad7d4d'} when creating GaussianLaplaceCore\n",
      "12-08-2020:05:05:21 INFO     readouts.py          145:\t Ignoring input {'ro_hash': 'a206f6da6a16ea14081062a1e2436b48'} when creating SpatialTransformerPyramid2dReadout\n",
      "12-08-2020:05:05:21 INFO     configs.py           619:\t Ignoring input arguments: \"net_hash\", \"core_hash\", \"ro_hash\", \"shift_hash\", \"mod_hash\", \"train_hash\", \"data_hash\", \"multi_session\", \"teacher_id\", \"noise_id\", \"ensemble_id\", \"train_id\", \"seed\", \"train_type\", \"schedule\", \"max_epoch\"when creating datasets\n",
      "12-08-2020:05:05:21 INFO     configs.py           597:\t Loading None dataset with tier=train\n",
      "12-08-2020:05:05:21 INFO     active_learning.py  1048:\t Fetching data for {'net_hash': '433595b577c488b6ffbd61e2b999c9e0', 'core_hash': '86e5871c1e9112ad5c408697c2ad7d4d', 'ro_hash': 'a206f6da6a16ea14081062a1e2436b48', 'shift_hash': 'bafd7322c6e97d25b6299b5d6fe8920b', 'mod_hash': 'bafd7322c6e97d25b6299b5d6fe8920b', 'train_hash': 'd6c92f34f275b8d2ee52d6b6df257274', 'data_hash': 'b7f468f8e1669aa24bd8fb7216ff59c2', 'multi_session': 1, 'teacher_id': 2, 'noise_id': 1, 'ensemble_id': 3, 'train_id': 1, 'seed': 2606, 'data_description': \"V1 L2/3 on stimulus.Frame. normalize=False on all (except '')\", 'stats_source': 'all', 'normalize': 0, 'normalize_per_image': 0, 'layer': 'L2/3', 'brain_area': 'V1'}\n",
      "12-08-2020:05:05:21 INFO     active_learning.py  1052:\t Data will be (images,responses)\n",
      "12-08-2020:05:05:21 INFO     active_learning.py  1054:\t Loading dataset multi2-teacher2-noise1-ensemble3-train1 --> /external/cache/static-actlearn-multi1-teacher2-noise1-ensemble3-train1.h5\n",
      "12-08-2020:05:05:21 INFO     configs.py           603:\t Adding stats_source \"all\" to dataset\n",
      "12-08-2020:05:05:21 INFO     configs.py           606:\t Using statistics source all\n",
      "12-08-2020:05:05:21 INFO     configs.py           479:\t Excluding \"\" from normalization\n",
      "12-08-2020:05:05:21 INFO     configs.py           571:\t Using stimulus.Frame as stimulus type for all datasets\n",
      "12-08-2020:05:05:21 INFO     configs.py           574:\t Stimulus sources: \"stimulus.Frame\"\n",
      "12-08-2020:05:05:21 INFO     configs.py           508:\t Using all trial from stimulus.Frame\n",
      "12-08-2020:05:05:21 INFO     configs.py           582:\t Selecting trials from stimulus.Frame and tier=train for dataset multi2-teacher2-noise1-ensemble3-train1\n",
      "12-08-2020:05:05:21 INFO     configs.py           584:\t Found 1000 active trials\n",
      "12-08-2020:05:05:21 INFO     configs.py           544:\t Loader sampler is SubsetRandomSampler\n",
      "12-08-2020:05:05:21 INFO     configs.py           546:\t Number of samples in the loader will be 1000\n",
      "12-08-2020:05:05:21 INFO     configs.py           548:\t Number of batches in the loader will be 17\n",
      "12-08-2020:05:05:21 INFO     configs.py           628:\t Subsampling to layer L2/3 and area(s) \"V1\"\n",
      "12-08-2020:05:05:21 INFO     configs.py           691:\t Setting cuda=False\n",
      "12-08-2020:05:05:21 INFO     cores.py             101:\t Ignoring input {'core_hash': '86e5871c1e9112ad5c408697c2ad7d4d'} when creating GaussianLaplaceCore\n",
      "12-08-2020:05:05:21 INFO     readouts.py          145:\t Ignoring input {'ro_hash': 'a206f6da6a16ea14081062a1e2436b48'} when creating SpatialTransformerPyramid2dReadout\n",
      "12-08-2020:05:05:21 INFO     configs.py           619:\t Ignoring input arguments: \"net_hash\", \"core_hash\", \"ro_hash\", \"shift_hash\", \"mod_hash\", \"train_hash\", \"data_hash\", \"multi_session\", \"teacher_id\", \"noise_id\", \"ensemble_id\", \"train_id\", \"seed\", \"train_type\", \"schedule\", \"max_epoch\"when creating datasets\n",
      "12-08-2020:05:05:21 INFO     configs.py           597:\t Loading None dataset with tier=train\n",
      "12-08-2020:05:05:21 INFO     active_learning.py  1048:\t Fetching data for {'net_hash': '433595b577c488b6ffbd61e2b999c9e0', 'core_hash': '86e5871c1e9112ad5c408697c2ad7d4d', 'ro_hash': 'a206f6da6a16ea14081062a1e2436b48', 'shift_hash': 'bafd7322c6e97d25b6299b5d6fe8920b', 'mod_hash': 'bafd7322c6e97d25b6299b5d6fe8920b', 'train_hash': 'd6c92f34f275b8d2ee52d6b6df257274', 'data_hash': 'b7f468f8e1669aa24bd8fb7216ff59c2', 'multi_session': 1, 'teacher_id': 2, 'noise_id': 1, 'ensemble_id': 3, 'train_id': 1, 'seed': 99999, 'data_description': \"V1 L2/3 on stimulus.Frame. normalize=False on all (except '')\", 'stats_source': 'all', 'normalize': 0, 'normalize_per_image': 0, 'layer': 'L2/3', 'brain_area': 'V1'}\n",
      "12-08-2020:05:05:21 INFO     active_learning.py  1052:\t Data will be (images,responses)\n",
      "12-08-2020:05:05:21 INFO     active_learning.py  1054:\t Loading dataset multi2-teacher2-noise1-ensemble3-train1 --> /external/cache/static-actlearn-multi1-teacher2-noise1-ensemble3-train1.h5\n",
      "12-08-2020:05:05:21 INFO     configs.py           603:\t Adding stats_source \"all\" to dataset\n",
      "12-08-2020:05:05:21 INFO     configs.py           606:\t Using statistics source all\n",
      "12-08-2020:05:05:21 INFO     configs.py           479:\t Excluding \"\" from normalization\n",
      "12-08-2020:05:05:21 INFO     configs.py           571:\t Using stimulus.Frame as stimulus type for all datasets\n",
      "12-08-2020:05:05:21 INFO     configs.py           574:\t Stimulus sources: \"stimulus.Frame\"\n",
      "12-08-2020:05:05:21 INFO     configs.py           508:\t Using all trial from stimulus.Frame\n",
      "12-08-2020:05:05:21 INFO     configs.py           582:\t Selecting trials from stimulus.Frame and tier=train for dataset multi2-teacher2-noise1-ensemble3-train1\n",
      "12-08-2020:05:05:21 INFO     configs.py           584:\t Found 1000 active trials\n",
      "12-08-2020:05:05:21 INFO     configs.py           544:\t Loader sampler is SubsetRandomSampler\n",
      "12-08-2020:05:05:21 INFO     configs.py           546:\t Number of samples in the loader will be 1000\n",
      "12-08-2020:05:05:21 INFO     configs.py           548:\t Number of batches in the loader will be 17\n",
      "12-08-2020:05:05:22 INFO     configs.py           628:\t Subsampling to layer L2/3 and area(s) \"V1\"\n",
      "12-08-2020:05:05:22 INFO     configs.py           691:\t Setting cuda=False\n",
      "12-08-2020:05:05:22 INFO     cores.py             101:\t Ignoring input {'core_hash': '86e5871c1e9112ad5c408697c2ad7d4d'} when creating GaussianLaplaceCore\n",
      "12-08-2020:05:05:22 INFO     readouts.py          145:\t Ignoring input {'ro_hash': 'a206f6da6a16ea14081062a1e2436b48'} when creating SpatialTransformerPyramid2dReadout\n"
     ]
    }
   ],
   "source": [
    "init_resps = get_student_resps(images, neuron_ids, train_id = 1, multi_session = 1)"
   ]
  },
  {
   "cell_type": "code",
   "execution_count": 12,
   "metadata": {},
   "outputs": [],
   "source": [
    "import logging\n",
    "class DisableLogger():\n",
    "    def __enter__(self):\n",
    "       logging.disable(logging.WARNING)\n",
    "    def __exit__(self, a, b, c):\n",
    "       logging.disable(logging.NOTSET)"
   ]
  },
  {
   "cell_type": "code",
   "execution_count": 13,
   "metadata": {},
   "outputs": [],
   "source": [
    "from tqdm import tqdm\n"
   ]
  },
  {
   "cell_type": "code",
   "execution_count": 14,
   "metadata": {},
   "outputs": [
    {
     "name": "stderr",
     "output_type": "stream",
     "text": [
      "100%|██████████| 2/2 [00:07<00:00,  3.77s/it]\n",
      "40it [01:13,  1.83s/it]\n",
      "40it [01:12,  1.81s/it]\n",
      "40it [01:13,  1.83s/it]\n",
      "40it [01:13,  1.84s/it]\n"
     ]
    }
   ],
   "source": [
    "random_resps, nall_resps, n1_resps, n10_resps, n50_resps, n100_resps = [], [], [], [], [], []\n",
    "\n",
    "with DisableLogger():\n",
    "    for s in tqdm([2,3]):\n",
    "        random_resps.append(get_student_resps(images, neuron_ids, train_id = 3, multi_session = s))\n",
    "        nall_resps.append(get_student_resps(images, neuron_ids, train_id = 14, multi_session = s))\n",
    "\n",
    "    for s, t in tqdm(product([2, 3], (TrainParameters & {'n_target_neurons': 1}).fetch('train_id'))):\n",
    "        n1_resps.append(get_student_resps(images, neuron_ids, train_id = t, multi_session = s))\n",
    "\n",
    "    for s, t in tqdm(product([2, 3], (TrainParameters & {'n_target_neurons': 10}).fetch('train_id'))):\n",
    "        n10_resps.append(get_student_resps(images, neuron_ids, train_id = t, multi_session = s))\n",
    "\n",
    "    for s, t in tqdm(product([2, 3], (TrainParameters & {'n_target_neurons': 50}).fetch('train_id'))):\n",
    "        n50_resps.append(get_student_resps(images, neuron_ids, train_id = t, multi_session = s))\n",
    "\n",
    "    for s, t in tqdm(product([2, 3], (TrainParameters & {'n_target_neurons': 100}).fetch('train_id'))):\n",
    "        n100_resps.append(get_student_resps(images, neuron_ids, train_id = t, multi_session = s))"
   ]
  },
  {
   "cell_type": "code",
   "execution_count": 15,
   "metadata": {},
   "outputs": [],
   "source": [
    "random_resps = np.stack(random_resps)\n",
    "nall_resps = np.stack(nall_resps)\n",
    "n1_resps = np.stack(n1_resps)\n",
    "n10_resps = np.stack(n10_resps)\n",
    "n50_resps = np.stack(n50_resps)\n",
    "n100_resps = np.stack(n100_resps)"
   ]
  },
  {
   "cell_type": "code",
   "execution_count": 24,
   "metadata": {},
   "outputs": [],
   "source": [
    "from scipy.stats import pearsonr"
   ]
  },
  {
   "cell_type": "code",
   "execution_count": null,
   "metadata": {},
   "outputs": [],
   "source": [
    "# all_nall_mcorr, all_nall_dcorr, all_nall_pe "
   ]
  },
  {
   "cell_type": "code",
   "execution_count": 201,
   "metadata": {},
   "outputs": [
    {
     "data": {
      "text/plain": [
       "(2, 114, 38)"
      ]
     },
     "execution_count": 201,
     "metadata": {},
     "output_type": "execute_result"
    }
   ],
   "source": [
    "nall_resps.shape"
   ]
  },
  {
   "cell_type": "code",
   "execution_count": 171,
   "metadata": {},
   "outputs": [],
   "source": [
    "all_tar_mcorr, all_tar_dcorr, all_tar_pe, all_non_mcorr, all_non_dcorr, all_non_pe = [], [], [], [], [], []\n",
    "all_init_tar_mcorr, all_init_tar_dcorr, all_init_tar_pe, all_init_non_mcorr, all_init_non_dcorr, all_init_non_pe = [], [], [], [], [], []\n",
    "all_rand_tar_mcorr, all_rand_tar_dcorr, all_rand_tar_pe, all_rand_non_mcorr, all_rand_non_dcorr, all_rand_non_pe = [], [], [], [], [], []\n",
    "seeds = np.arange(20)\n",
    "\n",
    "for session in [2, 3]:\n",
    "        \n",
    "    for n_target, resps in zip([1, 10, 50, 100], [n1_resps, n10_resps, n50_resps, n100_resps]):\n",
    "        tar_mcorr, tar_dcorr, tar_pe = [], [], []\n",
    "        non_mcorr, non_dcorr, non_pe = [], [], []\n",
    "        rand_tar_mcorr, rand_tar_dcorr, rand_tar_pe = [], [], []\n",
    "        rand_non_mcorr, rand_non_dcorr, rand_non_pe = [], [], []\n",
    "        init_tar_mcorr, init_tar_dcorr, init_tar_pe = [], [], []\n",
    "        init_non_mcorr, init_non_dcorr, init_non_pe = [], [], []\n",
    "\n",
    "        for seed in seeds: \n",
    "            if seed == 0:\n",
    "                if n_target == 1:\n",
    "                    targets = np.array([5903])\n",
    "                elif n_target == 100:\n",
    "                    targets = np.array([5903,  147, 4741,  660, 4509, 1259, 4603, 1186, 5669, 5458, 1078,\n",
    "                   4108, 4786, 5442, 4218, 3787, 1728, 4048, 4344, 4590, 1318, 4219,\n",
    "                   4491, 4236, 3998, 4202, 4073, 4656, 5953,  103, 4288, 1571, 3673,\n",
    "                   3902, 3408, 1916, 4756,  503, 6032, 5051,  875, 4418, 4373,  668,\n",
    "                   6546, 1591, 1032, 3545, 4675, 4065, 4714,  965, 1079,  404, 4986,\n",
    "                   5193, 4588, 4453,   27, 4848, 5346, 4488, 4915,  368, 4877, 4898,\n",
    "                   4021, 1197, 3335, 1016, 5812, 4448,  262, 3583, 1137, 3398, 4669,\n",
    "                   4624,  129, 3359, 1028, 1478, 4150, 4396, 5094, 4412, 4617, 6421,\n",
    "                   4342, 6456,  111, 4154, 3636, 4367, 4982, 5961,  124, 4486, 5760,\n",
    "                   3987])\n",
    "            else:\n",
    "                train_rel = (TrainParameters & {'train_type': 'avg_rank', 'neuron_seed': seed, 'n_target_neurons': n_target})\n",
    "                targets = (StudentEnsembleSearchedImages & {'multi_session': 1, 'teacher_id': 2, 'ensemble_id': 3, 'noise_id': 1} & train_rel).fetch('target_neuron_ids')[0]\n",
    "            \n",
    "            tars = set(targets).intersection(set(neuron_ids))\n",
    "            nons = set(neuron_ids) - set(targets)\n",
    "            tar_idx = [np.argwhere(neuron_ids == n).item() for n in tars]\n",
    "            non_idx = [np.argwhere(neuron_ids == n).item() for n in nons]\n",
    "\n",
    "            tar_idxs.extend(tar_idx)\n",
    "            non_idxs.extend(non_idx)\n",
    "            for idx in tar_idx:\n",
    "                r = init_resps[:, idx]\n",
    "                mei_r = r.reshape(-1, 3)[:, 0]\n",
    "                dei_r = r.reshape(-1, 3)[:, 1:].flatten()\n",
    "                real_mei_r = mean_teacher_resps[:, idx].reshape(-1, 3)[:, 0]\n",
    "                real_dei_r = mean_teacher_resps[:, idx].reshape(-1, 3)[:, 1:].flatten()\n",
    "                mei_corr = pearsonr(mei_r, real_mei_r)[0]\n",
    "                dei_corr = pearsonr(dei_r, real_dei_r)[0]\n",
    "                pe = np.abs(mean_teacher_resps[idx*3+1, idx] / mean_teacher_resps[idx*3, idx] - r[idx*3+1] / r[idx*3]) + np.abs(mean_teacher_resps[idx*3+2, idx] / mean_teacher_resps[idx*3, idx] - r[idx*3+2] / r[idx*3])\n",
    "                init_tar_mcorr.append(mei_corr)\n",
    "                init_tar_dcorr.append(dei_corr)\n",
    "                init_tar_pe.append(pe)\n",
    "                \n",
    "                r = resps[(session-2)*len(seeds)+seed, :, idx]\n",
    "                mei_r = r.reshape(-1, 3)[:, 0]\n",
    "                dei_r = r.reshape(-1, 3)[:, 1:].flatten()\n",
    "                real_mei_r = mean_teacher_resps[:, idx].reshape(-1, 3)[:, 0]\n",
    "                real_dei_r = mean_teacher_resps[:, idx].reshape(-1, 3)[:, 1:].flatten()\n",
    "                mei_corr = pearsonr(mei_r, real_mei_r)[0]\n",
    "                dei_corr = pearsonr(dei_r, real_dei_r)[0]\n",
    "                pe = np.abs(mean_teacher_resps[idx*3+1, idx] / mean_teacher_resps[idx*3, idx] - r[idx*3+1] / r[idx*3]) + np.abs(mean_teacher_resps[idx*3+2, idx] / mean_teacher_resps[idx*3, idx] - r[idx*3+2] / r[idx*3])\n",
    "                tar_mcorr.append(mei_corr)\n",
    "                tar_dcorr.append(dei_corr)\n",
    "                tar_pe.append(pe)\n",
    "                \n",
    "                r = random_resps[session-2, :, idx]\n",
    "                mei_r = r.reshape(-1, 3)[:, 0]\n",
    "                dei_r = r.reshape(-1, 3)[:, 1:].flatten()\n",
    "                real_mei_r = mean_teacher_resps[:, idx].reshape(-1, 3)[:, 0]\n",
    "                real_dei_r = mean_teacher_resps[:, idx].reshape(-1, 3)[:, 1:].flatten()\n",
    "                mei_corr = pearsonr(mei_r, real_mei_r)[0]\n",
    "                dei_corr = pearsonr(dei_r, real_dei_r)[0]\n",
    "                pe = np.abs(mean_teacher_resps[idx*3+1, idx] / mean_teacher_resps[idx*3, idx] - r[idx*3+1] / r[idx*3]) + np.abs(mean_teacher_resps[idx*3+2, idx] / mean_teacher_resps[idx*3, idx] - r[idx*3+2] / r[idx*3])\n",
    "                rand_tar_mcorr.append(mei_corr)\n",
    "                rand_tar_dcorr.append(dei_corr)\n",
    "                rand_tar_pe.append(pe)\n",
    "                \n",
    "            for idx in non_idx:\n",
    "                r = init_resps[:, idx]\n",
    "                mei_r = r.reshape(-1, 3)[:, 0]\n",
    "                dei_r = r.reshape(-1, 3)[:, 1:].flatten()\n",
    "                real_mei_r = mean_teacher_resps[:, idx].reshape(-1, 3)[:, 0]\n",
    "                real_dei_r = mean_teacher_resps[:, idx].reshape(-1, 3)[:, 1:].flatten()\n",
    "                mei_corr = pearsonr(mei_r, real_mei_r)[0]\n",
    "                dei_corr = pearsonr(dei_r, real_dei_r)[0]\n",
    "                pe = np.abs(mean_teacher_resps[idx*3+1, idx] / mean_teacher_resps[idx*3, idx] - r[idx*3+1] / r[idx*3]) + np.abs(mean_teacher_resps[idx*3+2, idx] / mean_teacher_resps[idx*3, idx] - r[idx*3+2] / r[idx*3])\n",
    "                init_non_mcorr.append(mei_corr)\n",
    "                init_non_dcorr.append(dei_corr)\n",
    "                init_non_pe.append(pe)\n",
    "                \n",
    "                r = resps[(session-2)*len(seeds)+seed, :, idx]\n",
    "                mei_r = r.reshape(-1, 3)[:, 0]\n",
    "                dei_r = r.reshape(-1, 3)[:, 1:].flatten()\n",
    "                real_mei_r = mean_teacher_resps[:, idx].reshape(-1, 3)[:, 0]\n",
    "                real_dei_r = mean_teacher_resps[:, idx].reshape(-1, 3)[:, 1:].flatten()\n",
    "                mei_corr = pearsonr(mei_r, real_mei_r)[0]\n",
    "                dei_corr = pearsonr(dei_r, real_dei_r)[0]\n",
    "                pe = np.abs(mean_teacher_resps[idx*3+1, idx] / mean_teacher_resps[idx*3, idx] - r[idx*3+1] / r[idx*3]) + np.abs(mean_teacher_resps[idx*3+2, idx] / mean_teacher_resps[idx*3, idx] - r[idx*3+2] / r[idx*3])\n",
    "                non_mcorr.append(mei_corr)\n",
    "                non_dcorr.append(dei_corr)\n",
    "                non_pe.append(pe)\n",
    "                \n",
    "                r = random_resps[session-2, :, idx]\n",
    "                mei_r = r.reshape(-1, 3)[:, 0]\n",
    "                dei_r = r.reshape(-1, 3)[:, 1:].flatten()\n",
    "                real_mei_r = mean_teacher_resps[:, idx].reshape(-1, 3)[:, 0]\n",
    "                real_dei_r = mean_teacher_resps[:, idx].reshape(-1, 3)[:, 1:].flatten()\n",
    "                mei_corr = pearsonr(mei_r, real_mei_r)[0]\n",
    "                dei_corr = pearsonr(dei_r, real_dei_r)[0]\n",
    "                pe = np.abs(mean_teacher_resps[idx*3+1, idx] / mean_teacher_resps[idx*3, idx] - r[idx*3+1] / r[idx*3]) + np.abs(mean_teacher_resps[idx*3+2, idx] / mean_teacher_resps[idx*3, idx] - r[idx*3+2] / r[idx*3])\n",
    "                rand_non_mcorr.append(mei_corr)\n",
    "                rand_non_dcorr.append(dei_corr)\n",
    "                rand_non_pe.append(pe)\n",
    "\n",
    "        all_init_tar_mcorr.append(init_tar_mcorr)\n",
    "        all_init_tar_dcorr.append(init_tar_dcorr)\n",
    "        all_init_tar_pe.append(init_tar_pe)\n",
    "        all_init_non_mcorr.append(init_non_mcorr)\n",
    "        all_init_non_dcorr.append(init_non_dcorr)\n",
    "        all_init_non_pe.append(init_non_pe)\n",
    "                \n",
    "        all_tar_mcorr.append(tar_mcorr)\n",
    "        all_tar_dcorr.append(tar_dcorr)\n",
    "        all_tar_pe.append(tar_pe)\n",
    "        all_non_mcorr.append(non_mcorr)\n",
    "        all_non_dcorr.append(non_dcorr)\n",
    "        all_non_pe.append(non_pe)\n",
    "    \n",
    "        all_rand_tar_mcorr.append(rand_tar_mcorr)\n",
    "        all_rand_tar_dcorr.append(rand_tar_dcorr)\n",
    "        all_rand_tar_pe.append(rand_tar_pe)\n",
    "        all_rand_non_mcorr.append(rand_non_mcorr)\n",
    "        all_rand_non_dcorr.append(rand_non_dcorr)\n",
    "        all_rand_non_pe.append(rand_non_pe)"
   ]
  },
  {
   "cell_type": "code",
   "execution_count": 174,
   "metadata": {},
   "outputs": [
    {
     "data": {
      "text/plain": [
       "[20, 26, 54, 131, 20, 26, 54, 131]"
      ]
     },
     "execution_count": 174,
     "metadata": {},
     "output_type": "execute_result"
    }
   ],
   "source": [
    "[len(i) for i in all_tar_dcorr]"
   ]
  },
  {
   "cell_type": "code",
   "execution_count": 176,
   "metadata": {},
   "outputs": [
    {
     "data": {
      "text/plain": [
       "[740, 734, 706, 629, 740, 734, 706, 629]"
      ]
     },
     "execution_count": 176,
     "metadata": {},
     "output_type": "execute_result"
    }
   ],
   "source": [
    "[len(i) for i in all_rand_non_dcorr]"
   ]
  },
  {
   "cell_type": "code",
   "execution_count": 203,
   "metadata": {},
   "outputs": [],
   "source": [
    "init_mcorr, init_dcorr, init_pe, rand_mcorr, rand_dcorr, rand_pe, nall_mcorr, nall_dcorr, nall_pe = [], [], [], [], [], [], [], [], []\n",
    "\n",
    "for idx in range(init_resps.shape[1]):\n",
    "    r = init_resps[:, idx]\n",
    "    mei_r = r.reshape(-1, 3)[:, 0]\n",
    "    dei_r = r.reshape(-1, 3)[:, 1:].flatten()\n",
    "    real_mei_r = mean_teacher_resps[:, idx].reshape(-1, 3)[:, 0]\n",
    "    real_dei_r = mean_teacher_resps[:, idx].reshape(-1, 3)[:, 1:].flatten()\n",
    "    mei_corr = pearsonr(mei_r, real_mei_r)[0]\n",
    "    dei_corr = pearsonr(dei_r, real_dei_r)[0]\n",
    "    pe = np.abs(mean_teacher_resps[idx*3+1, idx] / mean_teacher_resps[idx*3, idx] - r[idx*3+1] / r[idx*3]) + np.abs(mean_teacher_resps[idx*3+2, idx] / mean_teacher_resps[idx*3, idx] - r[idx*3+2] / r[idx*3])\n",
    "    init_mcorr.append(mei_corr)\n",
    "    init_dcorr.append(dei_corr)\n",
    "    init_pe.append(pe)\n",
    "    \n",
    "    for session in [0, 1]:\n",
    "        r = random_resps[session, :, idx]\n",
    "        mei_r = r.reshape(-1, 3)[:, 0]\n",
    "        dei_r = r.reshape(-1, 3)[:, 1:].flatten()\n",
    "        real_mei_r = mean_teacher_resps[:, idx].reshape(-1, 3)[:, 0]\n",
    "        real_dei_r = mean_teacher_resps[:, idx].reshape(-1, 3)[:, 1:].flatten()\n",
    "        mei_corr = pearsonr(mei_r, real_mei_r)[0]\n",
    "        dei_corr = pearsonr(dei_r, real_dei_r)[0]\n",
    "        pe = np.abs(mean_teacher_resps[idx*3+1, idx] / mean_teacher_resps[idx*3, idx] - r[idx*3+1] / r[idx*3]) + np.abs(mean_teacher_resps[idx*3+2, idx] / mean_teacher_resps[idx*3, idx] - r[idx*3+2] / r[idx*3])\n",
    "        rand_mcorr.append(mei_corr)\n",
    "        rand_dcorr.append(dei_corr)\n",
    "        rand_pe.append(pe)\n",
    "        \n",
    "        r = nall_resps[session, :, idx]\n",
    "        mei_r = r.reshape(-1, 3)[:, 0]\n",
    "        dei_r = r.reshape(-1, 3)[:, 1:].flatten()\n",
    "        real_mei_r = mean_teacher_resps[:, idx].reshape(-1, 3)[:, 0]\n",
    "        real_dei_r = mean_teacher_resps[:, idx].reshape(-1, 3)[:, 1:].flatten()\n",
    "        mei_corr = pearsonr(mei_r, real_mei_r)[0]\n",
    "        dei_corr = pearsonr(dei_r, real_dei_r)[0]\n",
    "        pe = np.abs(mean_teacher_resps[idx*3+1, idx] / mean_teacher_resps[idx*3, idx] - r[idx*3+1] / r[idx*3]) + np.abs(mean_teacher_resps[idx*3+2, idx] / mean_teacher_resps[idx*3, idx] - r[idx*3+2] / r[idx*3])\n",
    "        nall_mcorr.append(mei_corr)\n",
    "        nall_dcorr.append(dei_corr)\n",
    "        nall_pe.append(pe)"
   ]
  },
  {
   "cell_type": "code",
   "execution_count": 218,
   "metadata": {},
   "outputs": [],
   "source": [
    "random_mcorr = np.stack([np.array(init_mcorr), np.array(rand_mcorr).reshape(-1, 2)[:, 0], np.array(rand_mcorr).reshape(-1, 2)[:, 1]])\n",
    "random_dcorr = np.stack([np.array(init_dcorr), np.array(rand_dcorr).reshape(-1, 2)[:, 0], np.array(rand_dcorr).reshape(-1, 2)[:, 1]])\n",
    "random_pe = np.stack([np.array(init_pe), np.array(rand_pe).reshape(-1, 2)[:, 0], np.array(rand_pe).reshape(-1, 2)[:, 1]])\n",
    "\n",
    "neuall_mcorr = np.stack([np.array(init_mcorr), np.array(nall_mcorr).reshape(-1, 2)[:, 0], np.array(nall_mcorr).reshape(-1, 2)[:, 1]])\n",
    "neuall_dcorr = np.stack([np.array(init_dcorr), np.array(nall_dcorr).reshape(-1, 2)[:, 0], np.array(nall_dcorr).reshape(-1, 2)[:, 1]])\n",
    "neuall_pe = np.stack([np.array(init_pe), np.array(nall_pe).reshape(-1, 2)[:, 0], np.array(nall_pe).reshape(-1, 2)[:, 1]])"
   ]
  },
  {
   "cell_type": "code",
   "execution_count": 219,
   "metadata": {},
   "outputs": [
    {
     "data": {
      "text/plain": [
       "array([0.93459714, 0.94113968, 0.94482636])"
      ]
     },
     "execution_count": 219,
     "metadata": {},
     "output_type": "execute_result"
    }
   ],
   "source": [
    "random_mcorr.mean(1)"
   ]
  },
  {
   "cell_type": "code",
   "execution_count": 222,
   "metadata": {},
   "outputs": [
    {
     "data": {
      "image/png": "[encoded data removed]",
      "text/plain": [
       "<Figure size 1440x720 with 15 Axes>"
      ]
     },
     "metadata": {
      "needs_background": "light"
     },
     "output_type": "display_data"
    }
   ],
   "source": [
    "fig, axes = plt.subplots(3, 5, sharex=True, figsize=(20, 10))\n",
    "sessions = np.arange(1, 4)\n",
    "n_targets = [1, 5, 10, 100]\n",
    "labels = ['1 target', '10 targets', '50 targets', '100 targets', 'all_targets']\n",
    "tar_arrays = [all_tar_mcorr, all_tar_dcorr, all_tar_pe]\n",
    "non_arrays = [all_non_mcorr, all_non_dcorr, all_non_pe]\n",
    "rand_tar_arrays = [all_rand_tar_mcorr, all_rand_tar_dcorr, all_rand_tar_pe]\n",
    "rand_non_arrays = [all_rand_non_mcorr, all_rand_non_dcorr, all_rand_non_pe]\n",
    "init_tar_arrays = [all_init_tar_mcorr, all_init_tar_dcorr, all_init_tar_pe]\n",
    "init_non_arrays = [all_init_non_mcorr, all_init_non_dcorr, all_init_non_pe]\n",
    "\n",
    "\n",
    "for j, (array, init) in enumerate(zip(tar_arrays, init_tar_arrays)):\n",
    "    m = [np.mean(i) for i in array]\n",
    "    sem = [np.std(i) / len(i) for i in array]\n",
    "    init_m = [np.mean(i) for i in init[:4]]\n",
    "    init_sem = [np.std(i)/len(i) for i in init[:4]]\n",
    "    for i, ax in enumerate(axes[j][:-1]):\n",
    "        plot_m = np.array([init_m[i], m[i], m[len(n_targets)+i]])\n",
    "        plot_sem = np.array([init_sem[i], sem[i], sem[len(n_targets)+i]])\n",
    "        ax.plot(sessions, plot_m, label='target:actlearn')\n",
    "        ax.fill_between(sessions, plot_m-plot_sem, plot_m+plot_sem, alpha=0.5)\n",
    "\n",
    "for j, (array, init) in enumerate(zip(non_arrays, init_non_arrays)):\n",
    "    m = [np.mean(i) for i in array]\n",
    "    sem = [np.std(i) / len(i) for i in array]\n",
    "    init_m = [np.mean(i) for i in init[:4]]\n",
    "    init_sem = [np.std(i)/len(i) for i in init[:4]]\n",
    "    for i, ax in enumerate(axes[j][:-1]):\n",
    "        plot_m = np.array([init_m[i], m[i], m[len(n_targets)+i]])\n",
    "        plot_sem = np.array([init_sem[i], sem[i], sem[len(n_targets)+i]])\n",
    "        ax.plot(sessions, plot_m, label='nontarget:actlearn')\n",
    "        ax.fill_between(sessions, plot_m-plot_sem, plot_m+plot_sem, alpha=0.5)\n",
    "        \n",
    "for j, (array, init) in enumerate(zip(rand_tar_arrays, init_tar_arrays)):\n",
    "    m = [np.mean(i) for i in array]\n",
    "    sem = [np.std(i) / len(i) for i in array]\n",
    "    init_m = [np.mean(i) for i in init[:4]]\n",
    "    init_sem = [np.std(i)/len(i) for i in init[:4]]\n",
    "    for i, ax in enumerate(axes[j][:-1]):\n",
    "        plot_m = np.array([init_m[i], m[i], m[len(n_targets)+i]])\n",
    "        plot_sem = np.array([init_sem[i], sem[i], sem[len(n_targets)+i]])\n",
    "        ax.plot(sessions, plot_m, label='target:random')\n",
    "        ax.fill_between(sessions, plot_m-plot_sem, plot_m+plot_sem, alpha=0.5)\n",
    "\n",
    "for j, (array, init) in enumerate(zip(rand_non_arrays, init_non_arrays)):\n",
    "    m = [np.mean(i) for i in array]\n",
    "    sem = [np.std(i) / len(i) for i in array]\n",
    "    init_m = [np.mean(i) for i in init[:4]]\n",
    "    init_sem = [np.std(i)/len(i) for i in init[:4]]\n",
    "    for i, ax in enumerate(axes[j][:-1]):\n",
    "        plot_m = np.array([init_m[i], m[i], m[len(n_targets)+i]])\n",
    "        plot_sem = np.array([init_sem[i], sem[i], sem[len(n_targets)+i]])\n",
    "        ax.plot(sessions, plot_m, label='nontarget:random')\n",
    "        ax.fill_between(sessions, plot_m-plot_sem, plot_m+plot_sem, alpha=0.5)\n",
    "\n",
    "m = neuall_mcorr.mean(1)\n",
    "sem = neuall_mcorr.std(1)/38\n",
    "axes[0, -1].plot(sessions, m, label='actlearn')\n",
    "axes[0, -1].fill_between(sessions,m-sem, m+sem, alpha=0.5)\n",
    "m = random_mcorr.mean(1)\n",
    "sem = random_mcorr.std(1)/38\n",
    "axes[0, -1].plot(sessions, m, label='random')\n",
    "axes[0, -1].fill_between(sessions,m-sem, m+sem, alpha=0.5)\n",
    "\n",
    "m = neuall_dcorr.mean(1)\n",
    "sem = neuall_dcorr.std(1)/38\n",
    "axes[1, -1].plot(sessions, m, label='actlearn')\n",
    "axes[1, -1].fill_between(sessions,m-sem, m+sem, alpha=0.5)\n",
    "m = random_dcorr.mean(1)\n",
    "sem = random_dcorr.std(1)/38\n",
    "axes[1, -1].plot(sessions, m, label='random')\n",
    "axes[1, -1].fill_between(sessions,m-sem, m+sem, alpha=0.5)\n",
    "\n",
    "m = neuall_pe.mean(1)\n",
    "sem = neuall_pe.std(1)/38\n",
    "axes[2, -1].plot(sessions, m, label='actlearn')\n",
    "axes[2, -1].fill_between(sessions,m-sem, m+sem, alpha=0.5)\n",
    "m = random_pe.mean(1)\n",
    "sem = random_pe.std(1)/38\n",
    "axes[2, -1].plot(sessions, m, label='random')\n",
    "axes[2, -1].fill_between(sessions,m-sem, m+sem, alpha=0.5)\n",
    "\n",
    "axes[0, 0].legend()\n",
    "axes[0, -1].legend()\n",
    "\n",
    "for ax, l in zip(axes[0], labels):\n",
    "    ax.set_title(l)\n",
    "axes[0,0].set_ylabel('MEI correlation')\n",
    "axes[1,0].set_ylabel('DEI correlation')\n",
    "axes[2,0].set_ylabel('DEI prediction error')\n",
    "\n",
    "for ax in axes.ravel():\n",
    "    ax.set_xticks(sessions)\n",
    "    ax.set_xlabel('Training session')"
   ]
  },
  {
   "cell_type": "markdown",
   "metadata": {},
   "source": [
    "# for each session, for each train_id, get target neurons and non nontarget ones, aggregate cross train_ids"
   ]
  },
  {
   "cell_type": "code",
   "execution_count": null,
   "metadata": {},
   "outputs": [],
   "source": [
    "for session in [2, 3]:\n",
    "    for n_target in [1, 10, 50, 100]:\n",
    "        for seed in seeds: \n",
    "            if seed == 0:\n",
    "                if n_target == 1:\n",
    "                    targets = np.array([5903])\n",
    "                elif n_target == 100:\n",
    "                    targets = np.array([5903,  147, 4741,  660, 4509, 1259, 4603, 1186, 5669, 5458, 1078,\n",
    "                   4108, 4786, 5442, 4218, 3787, 1728, 4048, 4344, 4590, 1318, 4219,\n",
    "                   4491, 4236, 3998, 4202, 4073, 4656, 5953,  103, 4288, 1571, 3673,\n",
    "                   3902, 3408, 1916, 4756,  503, 6032, 5051,  875, 4418, 4373,  668,\n",
    "                   6546, 1591, 1032, 3545, 4675, 4065, 4714,  965, 1079,  404, 4986,\n",
    "                   5193, 4588, 4453,   27, 4848, 5346, 4488, 4915,  368, 4877, 4898,\n",
    "                   4021, 1197, 3335, 1016, 5812, 4448,  262, 3583, 1137, 3398, 4669,\n",
    "                   4624,  129, 3359, 1028, 1478, 4150, 4396, 5094, 4412, 4617, 6421,\n",
    "                   4342, 6456,  111, 4154, 3636, 4367, 4982, 5961,  124, 4486, 5760,\n",
    "                   3987])\n",
    "            else:\n",
    "                train_rel = (TrainParameters & {'train_type': 'avg_rank', 'neuron_seed': seed, 'n_target_neurons': n_target})\n",
    "                train_id = train_fel.fetch1('train_id')\n",
    "                targets = (StudentEnsembleSearchedImages & {'multi_session': 1, 'teacher_id': 2, 'ensemble_id': 3, 'noise_id': 1} & train_rel).fetch('target_neuron_ids')[0]\n",
    "            \n",
    "            nids, (ToyEnsembleEval.Unit() & {'multi_session': session, 'train_id': train_id, 'teacher_id': 2, 'ensemble_id': 3, 'noise_id': 1}).fetch('unit_avg_corr')"
   ]
  },
  {
   "cell_type": "code",
   "execution_count": 59,
   "metadata": {},
   "outputs": [],
   "source": [
    "target_neurons = [848,  945, 1078, 1079, 1246, 1563, 2090, 2819, 3359, 3837, 4143,\n",
    "       4150, 4754, 4778, 4844, 4920, 5193, 5903, 6461]"
   ]
  },
  {
   "cell_type": "code",
   "execution_count": 60,
   "metadata": {},
   "outputs": [],
   "source": [
    "non_neurons = [ 206,  338,  440,  871, 1288, 1393, 1978, 3392, 3407, 3580, 3640,\n",
    "       3853, 4160, 4166, 4877, 4895, 5202, 5209, 5346]"
   ]
  },
  {
   "cell_type": "code",
   "execution_count": null,
   "metadata": {},
   "outputs": [],
   "source": []
  }
 ],
 "metadata": {
  "kernelspec": {
   "display_name": "Python 3",
   "language": "python",
   "name": "python3"
  },
  "language_info": {
   "codemirror_mode": {
    "name": "ipython",
    "version": 3
   },
   "file_extension": ".py",
   "mimetype": "text/x-python",
   "name": "python",
   "nbconvert_exporter": "python",
   "pygments_lexer": "ipython3",
   "version": "3.8.0"
  }
 },
 "nbformat": 4,
 "nbformat_minor": 4
}
